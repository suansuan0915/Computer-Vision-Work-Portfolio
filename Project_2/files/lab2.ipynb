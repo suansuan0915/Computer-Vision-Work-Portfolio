{
  "nbformat": 4,
  "nbformat_minor": 0,
  "metadata": {
    "colab": {
      "provenance": [],
      "collapsed_sections": [
        "CiDrNzVVW9o-",
        "WPyY3fF3PaZU",
        "DmIFzehj4bOK",
        "t4E-USbfuH2d",
        "Kd2UbR1HvJjb"
      ]
    },
    "kernelspec": {
      "name": "python3",
      "display_name": "Python 3"
    }
  },
  "cells": [
    {
      "cell_type": "markdown",
      "metadata": {
        "id": "wmCbxoDrADcF"
      },
      "source": [
        "# Google Colab setup with Google Drive folder\n",
        "\n",
        "This notebook provides the code you need to set up Google Colab to run and import files from within a Google Drive folder.\n",
        "\n",
        "This will allow you to upload assignment code to your Google Drive and then run the code on Google Colab machines (with free GPUs if needed). \n",
        "\n",
        "You will need to create a folder in your Google Drive to hold your assignments and you will need to open Colaboratory within this folder before running the set up code (check the link above to see how)."
      ]
    },
    {
      "cell_type": "markdown",
      "metadata": {
        "id": "zWhrmhqVCyGH"
      },
      "source": [
        "# Mount Google Drive\n",
        "\n",
        "This will allow the Colab machine to access Google Drive folders by mounting the drive on the machine. You will be asked to copy and paste an authentication code."
      ]
    },
    {
      "cell_type": "code",
      "metadata": {
        "id": "Wv2oKmF9AJtI",
        "colab": {
          "base_uri": "https://localhost:8080/"
        },
        "outputId": "b88f4891-fe80-47cd-e79a-d0f85632bcce"
      },
      "source": [
        "from google.colab import drive\n",
        "drive.mount('/content/gdrive/')"
      ],
      "execution_count": null,
      "outputs": [
        {
          "output_type": "stream",
          "name": "stdout",
          "text": [
            "Mounted at /content/gdrive/\n"
          ]
        }
      ]
    },
    {
      "cell_type": "code",
      "metadata": {
        "id": "kKGxaMcmP_Et",
        "colab": {
          "base_uri": "https://localhost:8080/"
        },
        "outputId": "2ab2062b-ca11-4fb2-a3c9-cc6e13b653cc"
      },
      "source": [
        "ls"
      ],
      "execution_count": null,
      "outputs": [
        {
          "output_type": "stream",
          "name": "stdout",
          "text": [
            "\u001b[0m\u001b[01;34mgdrive\u001b[0m/  \u001b[01;34msample_data\u001b[0m/\n"
          ]
        }
      ]
    },
    {
      "cell_type": "markdown",
      "metadata": {
        "id": "4Qs04PPwDOFy"
      },
      "source": [
        "# Change directory to allow imports\n",
        "\n",
        "\n",
        "As noted above, you should create a Google Drive folder to hold all your assignment files. You will need to add this code to the top of any python notebook you run to be able to import python files from your drive assignment folder (you should change the file path below to be your own assignment folder). Following the hand-out, you should have a directory \"SFU_CMPT_CV_lab2\" on g-drive, which should have a directory \"data\", which contains three tar.gz files."
      ]
    },
    {
      "cell_type": "code",
      "metadata": {
        "id": "UA2-UyfpEc9O"
      },
      "source": [
        "import os\n",
        "os.chdir(\"/content/gdrive/My Drive/SFU_CMPT_CV_lab2\")"
      ],
      "execution_count": null,
      "outputs": []
    },
    {
      "cell_type": "code",
      "metadata": {
        "id": "gyRCWAIyRHWc",
        "colab": {
          "base_uri": "https://localhost:8080/"
        },
        "outputId": "16fab7e7-9802-4b10-bcfc-483399bfbe7d"
      },
      "source": [
        "ls # Check if this is your folder"
      ],
      "execution_count": null,
      "outputs": [
        {
          "output_type": "stream",
          "name": "stdout",
          "text": [
            "\u001b[0m\u001b[01;34mdata\u001b[0m/  lab2_Oct12_WanyiSu.ipynb  plot.png  submission_netid.csv\n"
          ]
        }
      ]
    },
    {
      "cell_type": "markdown",
      "metadata": {
        "id": "SJOCaUMilRz_"
      },
      "source": [
        "# Copy data to local dir"
      ]
    },
    {
      "cell_type": "code",
      "metadata": {
        "id": "90MxG_eRla0W"
      },
      "source": [
        "!mkdir /data\n",
        "!cp data/cifar100.tar.gz /data/\n",
        "!tar -xf /data/cifar100.tar.gz -C /data/\n",
        "!cp data/test.tar.gz /data\n",
        "!tar -xf /data/test.tar.gz -C /data\n",
        "!cp data/train.tar.gz /data\n",
        "!tar -xf /data/train.tar.gz -C /data/"
      ],
      "execution_count": null,
      "outputs": []
    },
    {
      "cell_type": "code",
      "metadata": {
        "id": "XvFEFItpl98p",
        "colab": {
          "base_uri": "https://localhost:8080/"
        },
        "outputId": "22c40f43-a43d-4d6e-e979-a82193df5da1"
      },
      "source": [
        "ls /data"
      ],
      "execution_count": null,
      "outputs": [
        {
          "output_type": "stream",
          "name": "stdout",
          "text": [
            "\u001b[0m\u001b[01;34mcifar100\u001b[0m/  cifar100.tar.gz  \u001b[01;34mtest\u001b[0m/  test.tar.gz  \u001b[01;34mtrain\u001b[0m/  train.tar.gz\n"
          ]
        }
      ]
    },
    {
      "cell_type": "markdown",
      "metadata": {
        "id": "DDU5aVgR9QBx"
      },
      "source": [
        "# Set up GPU and PyTorch\n",
        "\n",
        "First, ensure that your notebook on Colaboratory is set up to use GPU. After opening the notebook on Colaboratory, go to Edit>Notebook settings, select Python 3 under \"Runtime type,\" select GPU under \"Hardware accelerator,\" and save.\n",
        "\n",
        "Next, install PyTorch:"
      ]
    },
    {
      "cell_type": "code",
      "metadata": {
        "id": "kjbQtzKT9Uc2",
        "colab": {
          "base_uri": "https://localhost:8080/"
        },
        "outputId": "bcb21fea-c6b0-47bb-b465-f66004f8cb6c"
      },
      "source": [
        "!pip3 install torch torchvision"
      ],
      "execution_count": null,
      "outputs": [
        {
          "output_type": "stream",
          "name": "stdout",
          "text": [
            "Looking in indexes: https://pypi.org/simple, https://us-python.pkg.dev/colab-wheels/public/simple/\n",
            "Requirement already satisfied: torch in /usr/local/lib/python3.7/dist-packages (1.12.1+cu113)\n",
            "Requirement already satisfied: torchvision in /usr/local/lib/python3.7/dist-packages (0.13.1+cu113)\n",
            "Requirement already satisfied: typing-extensions in /usr/local/lib/python3.7/dist-packages (from torch) (4.1.1)\n",
            "Requirement already satisfied: numpy in /usr/local/lib/python3.7/dist-packages (from torchvision) (1.21.6)\n",
            "Requirement already satisfied: requests in /usr/local/lib/python3.7/dist-packages (from torchvision) (2.23.0)\n",
            "Requirement already satisfied: pillow!=8.3.*,>=5.3.0 in /usr/local/lib/python3.7/dist-packages (from torchvision) (7.1.2)\n",
            "Requirement already satisfied: urllib3!=1.25.0,!=1.25.1,<1.26,>=1.21.1 in /usr/local/lib/python3.7/dist-packages (from requests->torchvision) (1.24.3)\n",
            "Requirement already satisfied: certifi>=2017.4.17 in /usr/local/lib/python3.7/dist-packages (from requests->torchvision) (2022.9.24)\n",
            "Requirement already satisfied: chardet<4,>=3.0.2 in /usr/local/lib/python3.7/dist-packages (from requests->torchvision) (3.0.4)\n",
            "Requirement already satisfied: idna<3,>=2.5 in /usr/local/lib/python3.7/dist-packages (from requests->torchvision) (2.10)\n"
          ]
        }
      ]
    },
    {
      "cell_type": "markdown",
      "metadata": {
        "id": "u_BekZYY9Vzx"
      },
      "source": [
        "Make sure that pytorch is installed and works with GPU:"
      ]
    },
    {
      "cell_type": "code",
      "metadata": {
        "id": "8TXSJWQa9efx",
        "colab": {
          "base_uri": "https://localhost:8080/"
        },
        "outputId": "a2d5322f-1d39-4f9e-8a58-e176e999094d"
      },
      "source": [
        "import torch\n",
        "a = torch.Tensor([1]).cuda()\n",
        "print(a)\n"
      ],
      "execution_count": null,
      "outputs": [
        {
          "output_type": "stream",
          "name": "stdout",
          "text": [
            "tensor([1.], device='cuda:0')\n"
          ]
        }
      ]
    },
    {
      "cell_type": "code",
      "metadata": {
        "id": "OEeRNsCjRXZK",
        "colab": {
          "base_uri": "https://localhost:8080/"
        },
        "outputId": "329825d8-3c6a-4328-f365-f56ee453f994"
      },
      "source": [
        "torch.cuda.is_available()"
      ],
      "execution_count": null,
      "outputs": [
        {
          "output_type": "execute_result",
          "data": {
            "text/plain": [
              "True"
            ]
          },
          "metadata": {},
          "execution_count": 9
        }
      ]
    },
    {
      "cell_type": "markdown",
      "metadata": {
        "id": "qChgLJERsvZP"
      },
      "source": [
        "# Part 1"
      ]
    },
    {
      "cell_type": "code",
      "metadata": {
        "id": "IlyCnvf6WzjR",
        "colab": {
          "base_uri": "https://localhost:8080/"
        },
        "outputId": "482aae34-c25d-457b-ae68-6de4b126dabb"
      },
      "source": [
        "\"\"\"Headers\"\"\"\n",
        "\n",
        "from __future__ import print_function\n",
        "from PIL import Image\n",
        "import os\n",
        "import os.path\n",
        "import numpy as np\n",
        "import sys\n",
        "if sys.version_info[0] == 2:\n",
        "    import cPickle as pickle\n",
        "else:\n",
        "    import pickle\n",
        "\n",
        "import torch.utils.data as data\n",
        "from torchvision.datasets.utils import download_url, check_integrity\n",
        "\n",
        "import csv\n",
        "%matplotlib inline\n",
        "import matplotlib\n",
        "import matplotlib.pyplot as plt\n",
        "import numpy as np\n",
        "import os.path\n",
        "import sys\n",
        "import torch\n",
        "import torch.utils.data\n",
        "import torchvision\n",
        "import torchvision.transforms as transforms\n",
        "\n",
        "from torch.autograd import Variable\n",
        "import torch.nn as nn\n",
        "import torch.nn.functional as F\n",
        "\n",
        "np.random.seed(111)\n",
        "torch.cuda.manual_seed_all(111)\n",
        "torch.manual_seed(111)"
      ],
      "execution_count": null,
      "outputs": [
        {
          "output_type": "execute_result",
          "data": {
            "text/plain": [
              "<torch._C.Generator at 0x7f236da3fe10>"
            ]
          },
          "metadata": {},
          "execution_count": 10
        }
      ]
    },
    {
      "cell_type": "markdown",
      "metadata": {
        "id": "137GhZMrcTuj"
      },
      "source": [
        "\n",
        "\n",
        "## **Just execute the cell below. This is the dataloader. DO NOT CHANGE ANYTHING IN HERE!**\n"
      ]
    },
    {
      "cell_type": "code",
      "metadata": {
        "id": "URUH4fzzWqKr"
      },
      "source": [
        "\"\"\"\"\"\"\n",
        "\n",
        "class CIFAR10_SFU_CV(data.Dataset):\n",
        "    \"\"\"`CIFAR10 <https://www.cs.toronto.edu/~kriz/cifar.html>`_ Dataset.\n",
        "\n",
        "    Args:\n",
        "        root (string): Root directory of dataset where directory\n",
        "            ``cifar-10-batches-py`` exists or will be saved to if download is set to True.\n",
        "        train (bool, optional): If True, creates dataset from training set, otherwise\n",
        "            creates from test set.\n",
        "        transform (callable, optional): A function/transform that  takes in an PIL image\n",
        "            and returns a transformed version. E.g, ``transforms.RandomCrop``\n",
        "        target_transform (callable, optional): A function/transform that takes in the\n",
        "            target and transforms it.\n",
        "        download (bool, optional): If true, downloads the dataset from the internet and\n",
        "            puts it in root directory. If dataset is already downloaded, it is not\n",
        "            downloaded again.\n",
        "\n",
        "    \"\"\"\n",
        "    base_folder = 'cifar100'\n",
        "    url = \"https://www.cs.toronto.edu/~kriz/cifar-10-python.tar.gz\"\n",
        "    filename = \"cifar100.tar.gz\"\n",
        "    tgz_md5 = 'c58f30108f718f92721af3b95e74349a'\n",
        "    train_list = [\n",
        "        ['data_batch_1', 'c99cafc152244af753f735de768cd75f'],\n",
        "        ['data_batch_2', 'd4bba439e000b95fd0a9bffe97cbabec'],\n",
        "        ['data_batch_3', '54ebc095f3ab1f0389bbae665268c751'],\n",
        "        ['data_batch_4', '634d18415352ddfa80567beed471001a'],\n",
        "        ['data_batch_5', '482c414d41f54cd18b22e5b47cb7c3cb'],\n",
        "    ]\n",
        "\n",
        "    test_list = [\n",
        "        ['test_batch', '40351d587109b95175f43aff81a1287e'],\n",
        "    ]\n",
        "\n",
        "    def __init__(self, root, fold=\"train\",\n",
        "                 transform=None, target_transform=None,\n",
        "                 download=False):\n",
        "        \n",
        "        fold = fold.lower()\n",
        "\n",
        "        self.train = False\n",
        "        self.test = False\n",
        "        self.val = False\n",
        "\n",
        "        if fold == \"train\":\n",
        "            self.train = True\n",
        "        elif fold == \"test\":\n",
        "            self.test = True\n",
        "        elif fold == \"val\":\n",
        "            self.val = True\n",
        "        else:\n",
        "            raise RuntimeError(\"Not train-val-test\")\n",
        "\n",
        "\n",
        "        self.root = os.path.expanduser(root)\n",
        "        self.transform = transform\n",
        "        self.target_transform = target_transform\n",
        "\n",
        "        fpath = os.path.join(root, self.filename)\n",
        "        if not self._check_integrity():\n",
        "            raise RuntimeError('Dataset not found or corrupted.' +\n",
        "                               ' Download it and extract the file again.')\n",
        "\n",
        "        # now load the picked numpy arrays\n",
        "        if self.train or self.val:\n",
        "            self.train_data = []\n",
        "            self.train_labels = []\n",
        "            for fentry in self.train_list:\n",
        "                f = fentry[0]\n",
        "                file = os.path.join(self.root, self.base_folder, f)\n",
        "                fo = open(file, 'rb')\n",
        "                if sys.version_info[0] == 2:\n",
        "                    entry = pickle.load(fo)\n",
        "                else:\n",
        "                    entry = pickle.load(fo, encoding='latin1')\n",
        "                self.train_data.append(entry['data'])\n",
        "                if 'labels' in entry:\n",
        "                    self.train_labels += entry['labels']\n",
        "                else:\n",
        "                    self.train_labels += entry['fine_labels']\n",
        "                fo.close()\n",
        "\n",
        "            self.train_data = np.concatenate(self.train_data)\n",
        "            self.train_data = self.train_data.reshape((50000, 3, 32, 32))\n",
        "            self.train_data = self.train_data.transpose((0, 2, 3, 1))  # convert to HWC\n",
        "            \n",
        "            p = np.arange(0,50000,10)\n",
        "            mask_train = np.ones((50000,), dtype=bool)\n",
        "            mask_train[p] = False\n",
        "            mask_val = np.zeros((50000,), dtype=bool)\n",
        "            mask_val[p] = True\n",
        "\n",
        "            copy_all_data = np.array(self.train_data)\n",
        "            self.val_data = np.array(copy_all_data[mask_val])\n",
        "            self.train_data = np.array(copy_all_data[mask_train])\n",
        "            \n",
        "            copy_all_labels = np.array(self.train_labels)\n",
        "            self.val_labels = np.array(copy_all_labels[mask_val])\n",
        "            self.train_labels = np.array(copy_all_labels[mask_train])\n",
        "\n",
        "        elif self.test:\n",
        "            f = self.test_list[0][0]\n",
        "            file = os.path.join(self.root, self.base_folder, f)\n",
        "            fo = open(file, 'rb')\n",
        "            if sys.version_info[0] == 2:\n",
        "                entry = pickle.load(fo)\n",
        "            else:\n",
        "                entry = pickle.load(fo, encoding='latin1')\n",
        "            self.test_data = entry['data']\n",
        "\n",
        "            if 'labels' in entry:\n",
        "                self.test_labels = entry['labels']\n",
        "            else:\n",
        "                self.test_labels = entry['fine_labels']\n",
        "            fo.close()\n",
        "            self.test_data = self.test_data.reshape((10000, 3, 32, 32))\n",
        "            self.test_data = self.test_data.transpose((0, 2, 3, 1))  # convert to HWC\n",
        "\n",
        "    def __getitem__(self, index):\n",
        "        \"\"\"\n",
        "        Args:\n",
        "            index (int): Index\n",
        "\n",
        "        Returns:\n",
        "            tuple: (image, target) where target is index of the target class.\n",
        "        \"\"\"\n",
        "        if self.train:\n",
        "            img, target = self.train_data[index], self.train_labels[index]\n",
        "        elif self.test:\n",
        "            img, target = self.test_data[index], self.test_labels[index]\n",
        "        elif self.val:\n",
        "            img, target = self.val_data[index], self.val_labels[index]\n",
        "\n",
        "        # doing this so that it is consistent with all other datasets\n",
        "        # to return a PIL Image\n",
        "        img = Image.fromarray(img)\n",
        "\n",
        "        if self.transform is not None:\n",
        "            img = self.transform(img)\n",
        "\n",
        "        if self.target_transform is not None:\n",
        "            target = self.target_transform(target)\n",
        "\n",
        "        return img, target\n",
        "\n",
        "    def __len__(self):\n",
        "        if self.train:\n",
        "            return len(self.train_data)\n",
        "        elif self.test:\n",
        "            return len(self.test_data)\n",
        "        elif self.val:\n",
        "            return len(self.val_data)\n",
        "\n",
        "    def _check_integrity(self):\n",
        "        root = self.root\n",
        "        for fentry in (self.train_list + self.test_list):\n",
        "            filename, md5 = fentry[0], fentry[1]\n",
        "            fpath = os.path.join(root, self.base_folder, filename)\n",
        "            if not check_integrity(fpath, md5):\n",
        "                return False\n",
        "        return True\n",
        "\n",
        "    def __repr__(self):\n",
        "        fmt_str = 'Dataset ' + self.__class__.__name__ + '\\n'\n",
        "        fmt_str += '    Number of datapoints: {}\\n'.format(self.__len__())\n",
        "        tmp = 'train' if self.train is True else 'test'\n",
        "        fmt_str += '    Split: {}\\n'.format(tmp)\n",
        "        fmt_str += '    Root Location: {}\\n'.format(self.root)\n",
        "        tmp = '    Transforms (if any): '\n",
        "        fmt_str += '{0}{1}\\n'.format(tmp, self.transform.__repr__().replace('\\n', '\\n' + ' ' * len(tmp)))\n",
        "        tmp = '    Target Transforms (if any): '\n",
        "        fmt_str += '{0}{1}'.format(tmp, self.target_transform.__repr__().replace('\\n', '\\n' + ' ' * len(tmp)))\n",
        "        return fmt_str\n",
        "\n",
        "\n",
        "class CIFAR100_SFU_CV(CIFAR10_SFU_CV):\n",
        "    \"\"\"`CIFAR100 <https://www.cs.toronto.edu/~kriz/cifar.html>`_ Dataset.\n",
        "\n",
        "    This is a subclass of the `CIFAR10` Dataset.\n",
        "    \"\"\"\n",
        "    base_folder = 'cifar100'\n",
        "    filename = \"cifar100.tar.gz\"\n",
        "    tgz_md5 = 'e68a4c763591787a0b39fe2209371f32'\n",
        "    train_list = [\n",
        "        ['train_cs543', '49eee854445c1e2ebe796cd93c20bb0f'],\n",
        "    ]\n",
        "\n",
        "    test_list = [\n",
        "        ['test_cs543', 'd3fe9f6a9251bd443f428f896d27384f'],\n",
        "    ]"
      ],
      "execution_count": null,
      "outputs": []
    },
    {
      "cell_type": "markdown",
      "metadata": {
        "id": "JpFMv7HtcII4"
      },
      "source": [
        "This file has been adapted from the easy-to-use tutorial released by PyTorch:\n",
        "http://pytorch.org/tutorials/beginner/blitz/cifar10_tutorial.html\n",
        "\n",
        "Training an image classifier\n",
        "----------------------------\n",
        "\n",
        "We will do the following steps in order:\n",
        "\n",
        "1. Load the CIFAR100_SFU_CV training, validation and test datasets using\n",
        "   torchvision. Use torchvision.transforms to apply transforms on the\n",
        "   dataset.\n",
        "2. Define a Convolution Neural Network - BaseNet\n",
        "3. Define a loss function and optimizer\n",
        "4. Train the network on training data and check performance on val set.\n",
        "   Plot train loss and validation accuracies.\n",
        "5. Try the network on test data and create .csv file for submission to kaggle"
      ]
    },
    {
      "cell_type": "code",
      "metadata": {
        "id": "Ld6juH34dWWq"
      },
      "source": [
        "# <<TODO#5>> Based on the val set performance, decide how many\n",
        "# epochs are apt for your model.\n",
        "# ---------\n",
        "EPOCHS = 50 #15\n",
        "# ---------\n",
        "\n",
        "IS_GPU = True\n",
        "TEST_BS = 256\n",
        "TOTAL_CLASSES = 100\n",
        "TRAIN_BS = 64 #32\n",
        "PATH_TO_CIFAR100_SFU_CV = \"/data/\""
      ],
      "execution_count": null,
      "outputs": []
    },
    {
      "cell_type": "code",
      "metadata": {
        "id": "0ENlTTMi-qFD",
        "colab": {
          "base_uri": "https://localhost:8080/"
        },
        "outputId": "edab2ea1-212c-443d-bea4-6017cdf9ef93"
      },
      "source": [
        "ls /data/cifar100/"
      ],
      "execution_count": null,
      "outputs": [
        {
          "output_type": "stream",
          "name": "stdout",
          "text": [
            "test_cs543  train_cs543\n"
          ]
        }
      ]
    },
    {
      "cell_type": "code",
      "metadata": {
        "id": "d57CSAj1dfix"
      },
      "source": [
        "def calculate_val_accuracy(valloader, is_gpu):\n",
        "    \"\"\" Util function to calculate val set accuracy,\n",
        "    both overall and per class accuracy\n",
        "    Args:\n",
        "        valloader (torch.utils.data.DataLoader): val set \n",
        "        is_gpu (bool): whether to run on GPU\n",
        "    Returns:\n",
        "        tuple: (overall accuracy, class level accuracy)\n",
        "    \"\"\"    \n",
        "    correct = 0.\n",
        "    total = 0.\n",
        "    predictions = []\n",
        "\n",
        "    class_correct = list(0. for i in range(TOTAL_CLASSES))\n",
        "    class_total = list(0. for i in range(TOTAL_CLASSES))\n",
        "\n",
        "    for data in valloader:\n",
        "        images, labels = data\n",
        "        if is_gpu:\n",
        "            images = images.cuda()\n",
        "            labels = labels.cuda()\n",
        "        outputs = net(Variable(images))\n",
        "        _, predicted = torch.max(outputs.data, 1)\n",
        "        predictions.extend(list(predicted.cpu().numpy()))\n",
        "        total += labels.size(0)\n",
        "        correct += (predicted == labels).sum()\n",
        "\n",
        "        c = (predicted == labels).squeeze()\n",
        "        # Added for a bug fix.\n",
        "        c = c.cpu()\n",
        "        for i in range(len(labels)):\n",
        "            label = labels[i]\n",
        "            class_correct[label] += c[i]\n",
        "            # class_correct[label] += c[i].cpu().numpy()\n",
        "            class_total[label] += 1\n",
        "\n",
        "    class_accuracy = 100 * np.divide(class_correct, class_total)\n",
        "    return 100*correct/total, class_accuracy"
      ],
      "execution_count": null,
      "outputs": []
    },
    {
      "cell_type": "markdown",
      "metadata": {
        "id": "aq2qOUaJeAWJ"
      },
      "source": [
        "1.** Loading CIFAR100_SFU_CV**\n",
        "\n",
        "We modify the dataset to create CIFAR100_SFU_CV dataset which consist of 45000 training images (450 of each class), 5000 validation images (50 of each class) and 10000 test images (100 of each class). The train and val datasets have labels while all the labels in the test set are set to 0.\n"
      ]
    },
    {
      "cell_type": "code",
      "metadata": {
        "id": "C2UcDZmtdfq3",
        "colab": {
          "base_uri": "https://localhost:8080/"
        },
        "outputId": "1aec5345-aec9-4a2c-ac00-48e99d2eb9ea"
      },
      "source": [
        "# The output of torchvision datasets are PILImage images of range [0, 1].\n",
        "# Using transforms.ToTensor(), transform them to Tensors of normalized range\n",
        "# [-1, 1].\n",
        "\n",
        "\n",
        "# <<TODO#1>> Use transforms.Normalize() with the right parameters to \n",
        "# make the data well conditioned (zero mean, std dev=1) for improved training.\n",
        "# <<TODO#2>> Try using transforms.RandomCrop() and/or transforms.RandomHorizontalFlip()\n",
        "# to augment training data.\n",
        "# After your edits, make sure that test_transform should have the same data\n",
        "# normalization parameters as train_transform\n",
        "# You shouldn't have any data augmentation in test_transform (val or test data is never augmented).\n",
        "# ---------------------\n",
        "\n",
        "train_transform = transforms.Compose(\n",
        "    [transforms.RandomCrop(32, padding=4),\n",
        "    transforms.RandomHorizontalFlip(p=0.5), # for 1st to 4th trials\n",
        "    #  transforms.RandomRotation(degrees=30),\n",
        "     transforms.ToTensor(),\n",
        "    #  transforms.Normalize((0,0,0), (1,1,1)),  # for 1st try\n",
        "    transforms.Normalize([0.485, 0.456, 0.406], [0.229, 0.224, 0.225])  # for 2nd, 3rd try\n",
        "     ])\n",
        "test_transform = transforms.Compose(\n",
        "    [transforms.ToTensor(),\n",
        "    #  transforms.Normalize((0.4914, 0.4822, 0.4465), (0.2023, 0.1994, 0.2010)) # for 3rd try\n",
        "    #  transforms.Normalize((0,0,0), (1,1,1))  # for 1st try\n",
        "    transforms.Normalize([0.485, 0.456, 0.406], [0.229, 0.224, 0.225])  # for 2nd try\n",
        "    ])\n",
        "# ---------------------\n",
        "\n",
        "trainset = CIFAR100_SFU_CV(root=PATH_TO_CIFAR100_SFU_CV, fold=\"train\",\n",
        "                                        download=True, transform=train_transform)\n",
        "trainloader = torch.utils.data.DataLoader(trainset, batch_size=TRAIN_BS,\n",
        "                                          shuffle=True, num_workers=2)\n",
        "print(\"Train set size: \"+str(len(trainset)))\n",
        "\n",
        "valset = CIFAR100_SFU_CV(root=PATH_TO_CIFAR100_SFU_CV, fold=\"val\",\n",
        "                                       download=True, transform=test_transform)\n",
        "valloader = torch.utils.data.DataLoader(valset, batch_size=TEST_BS,\n",
        "                                         shuffle=False, num_workers=2)\n",
        "print(\"Val set size: \"+str(len(valset)))\n",
        "\n",
        "testset = CIFAR100_SFU_CV(root=PATH_TO_CIFAR100_SFU_CV, fold=\"test\",\n",
        "                                       download=True, transform=test_transform)\n",
        "testloader = torch.utils.data.DataLoader(testset, batch_size=TEST_BS,\n",
        "                                         shuffle=False, num_workers=2)\n",
        "print(\"Test set size: \"+str(len(testset)))\n",
        "\n",
        "# The 100 classes for CIFAR100\n",
        "classes = ['apple', 'aquarium_fish', 'baby', 'bear', 'beaver', 'bed', 'bee', 'beetle', 'bicycle', 'bottle', 'bowl', 'boy', 'bridge', 'bus', 'butterfly', 'camel', 'can', 'castle', 'caterpillar', 'cattle', 'chair', 'chimpanzee', 'clock', 'cloud', 'cockroach', 'couch', 'crab', 'crocodile', 'cup', 'dinosaur', 'dolphin', 'elephant', 'flatfish', 'forest', 'fox', 'girl', 'hamster', 'house', 'kangaroo', 'keyboard', 'lamp', 'lawn_mower', 'leopard', 'lion', 'lizard', 'lobster', 'man', 'maple_tree', 'motorcycle', 'mountain', 'mouse', 'mushroom', 'oak_tree', 'orange', 'orchid', 'otter', 'palm_tree', 'pear', 'pickup_truck', 'pine_tree', 'plain', 'plate', 'poppy', 'porcupine', 'possum', 'rabbit', 'raccoon', 'ray', 'road', 'rocket', 'rose', 'sea', 'seal', 'shark', 'shrew', 'skunk', 'skyscraper', 'snail', 'snake', 'spider', 'squirrel', 'streetcar', 'sunflower', 'sweet_pepper', 'table', 'tank', 'telephone', 'television', 'tiger', 'tractor', 'train', 'trout', 'tulip', 'turtle', 'wardrobe', 'whale', 'willow_tree', 'wolf', 'woman', 'worm']\n",
        "\n"
      ],
      "execution_count": null,
      "outputs": [
        {
          "output_type": "stream",
          "name": "stdout",
          "text": [
            "Train set size: 45000\n",
            "Val set size: 5000\n",
            "Test set size: 10000\n"
          ]
        }
      ]
    },
    {
      "cell_type": "markdown",
      "source": [
        "## Random trial"
      ],
      "metadata": {
        "id": "CiDrNzVVW9o-"
      }
    },
    {
      "cell_type": "code",
      "metadata": {
        "id": "5b_fBznndp4W"
      },
      "source": [
        "########################################################################\n",
        "# 2. Define a Convolution Neural Network\n",
        "# ^^^^^^^^^^^^^^^^^^^^^^^^^^^^^^^^^^^^^^\n",
        "# We provide a basic network that you should understand, run and\n",
        "# eventually improve\n",
        "# <<TODO>> Add more conv layers\n",
        "# <<TODO>> Add more fully connected (fc) layers\n",
        "# <<TODO>> Add regularization layers like Batchnorm.\n",
        "#          nn.BatchNorm2d after conv layers:\n",
        "#          http://pytorch.org/docs/master/nn.html#batchnorm2d\n",
        "#          nn.BatchNorm1d after fc layers:\n",
        "#          http://pytorch.org/docs/master/nn.html#batchnorm1d\n",
        "# This is a good resource for developing a CNN for classification:\n",
        "# http://cs231n.github.io/convolutional-networks/#layers\n",
        "\n",
        "import torch.nn as nn\n",
        "import torch.nn.functional as F\n",
        "\n",
        "class BaseNet(nn.Module):\n",
        "    def __init__(self):\n",
        "        super(BaseNet, self).__init__()\n",
        "        \n",
        "        # <<TODO#3>> Add more conv layers with increasing \n",
        "        # output channels\n",
        "        # <<TODO#4>> Add normalization layers after conv\n",
        "        # layers (nn.BatchNorm2d)\n",
        "\n",
        "        # Also experiment with kernel size in conv2d layers (say 3\n",
        "        # inspired from VGGNet)\n",
        "        # To keep it simple, keep the same kernel size\n",
        "        # (right now set to 5) in all conv layers.\n",
        "        # Do not have a maxpool layer after every conv layer in your\n",
        "        # deeper network as it leads to too much loss of information.\n",
        "\n",
        "        # self.conv1 = nn.Conv2d(3, 6, 5) # (in_channels, out_channels, kernel_size)\n",
        "        # self.pool = nn.MaxPool2d(2, 2)\n",
        "        # self.conv2 = nn.Conv2d(6, 16, 5)\n",
        "        # output_size = (in_size - k + 2 * p) / s + 1\n",
        "        self.conv1 = nn.Conv2d(3, 6, 3)\n",
        "        self.bn1 = nn.BatchNorm2d(6)\n",
        "        self.conv2 = nn.Conv2d(6, 12, 3)\n",
        "        self.bn2 = nn.BatchNorm2d(12)\n",
        "        self.conv3 = nn.Conv2d(12, 24, 3) \n",
        "        self.bn3 = nn.BatchNorm2d(24)\n",
        "        self.conv4 = nn.Conv2d(24, 48, 3)\n",
        "        self.bn4 = nn.BatchNorm2d(48)\n",
        "        self.conv5 = nn.Conv2d(48, 96, 3)\n",
        "        self.bn5 = nn.BatchNorm2d(96)\n",
        "        self.conv6 = nn.Conv2d(96, 192, 3)\n",
        "        self.bn6 = nn.BatchNorm2d(192) \n",
        "        self.conv7 = nn.Conv2d(192, 384, 3)\n",
        "        self.bn7 = nn.BatchNorm2d(384)    \n",
        "        self.pool1 = nn.MaxPool2d(3, 1, padding=1)\n",
        "        self.pool2 = nn.MaxPool2d(2, 2)\n",
        "        \n",
        "\n",
        "        # <<TODO#3>> Add more linear (fc) layers\n",
        "        # <<TODO#4>> Add normalization layers after linear and\n",
        "        # experiment inserting them before or after ReLU (nn.BatchNorm1d)\n",
        "        # More on nn.sequential:\n",
        "        # http://pytorch.org/docs/master/nn.html#torch.nn.Sequential\n",
        "        \n",
        "        # self.fc_net = nn.Sequential(\n",
        "        #     nn.Linear(16 * 5 * 5, TOTAL_CLASSES//2),  # nn.Linear(in_feature_size, out_feature_size)\n",
        "        #     nn.ReLU(inplace=True),\n",
        "        #     nn.Linear(TOTAL_CLASSES//2, TOTAL_CLASSES),\n",
        "        # )\n",
        "        self.fc_net = nn.Sequential(\n",
        "            nn.Linear(384 * 9 * 9, TOTAL_CLASSES//2),  # nn.Linear(in_feature_size, out_feature_size)\n",
        "            # nn.BatchNorm1d(TOTAL_CLASSES//2), # added\n",
        "            nn.ReLU(inplace=True),\n",
        "            # nn.BatchNorm1d(TOTAL_CLASSES//2), # added\n",
        "            nn.Linear(TOTAL_CLASSES//2, TOTAL_CLASSES),\n",
        "        )\n",
        "\n",
        "\n",
        "    def forward(self, x):\n",
        "\n",
        "        # <<TODO#3&#4>> Based on the above edits, you'll have\n",
        "        # to edit the forward pass description here.\n",
        "\n",
        "        # x = self.pool(F.relu(self.conv1(x)))\n",
        "        # # Output size = 28//2 x 28//2 = 14 x 14  # output: (6,14,14)\n",
        "        # x = self.pool(F.relu(self.conv2(x))) # output: (5,5,16)\n",
        "        # # Output size = 10//2 x 10//2 = 5 x 5\n",
        "        # input size (3,32,32)\n",
        "        x = F.relu(self.conv1(x)) # (6,30,30)\n",
        "        # x = self.bn1(x)\n",
        "        x = F.relu(self.conv2(x)) # (12,28,28)\n",
        "        # x = self.bn2(x)\n",
        "        x = F.relu(self.conv3(x)) # (24,26,26)\n",
        "        # x = self.bn3(x)\n",
        "        x = F.relu(self.conv4(x)) # (48,24,24)\n",
        "        x = self.bn4(x)\n",
        "        x = self.pool1(x) # (48,24,24)\n",
        "        x = F.relu(self.conv5(x)) # (96,22,22)\n",
        "        # x = self.bn5(x)\n",
        "        x = F.relu(self.conv6(x)) # (192,20,20)\n",
        "        # x = self.bn6(x)\n",
        "        x = F.relu(self.conv7(x)) # (384,18,18)\n",
        "        x = self.bn7(x)\n",
        "        x = self.pool2(x) # (384,9,9)\n",
        "        \n",
        "        \n",
        "\n",
        "        # See the CS231 link to understand why this is 16*5*5!\n",
        "        # This will help you design your own deeper network\n",
        "        # x = x.view(-1, 16 * 5 * 5)  # x.view(shape): return same tensor w/ different shape. -1 is inferred from other dimensions\n",
        "        x = x.view(-1,  384 * 9 * 9)\n",
        "        # x = self.fc_net(x) # added\n",
        "        x = self.fc_net(x)\n",
        "\n",
        "        # No softmax is needed as the loss function in step 3\n",
        "        # takes care of that\n",
        "        \n",
        "        return x\n",
        "\n",
        "# Create an instance of the nn.module class defined above:\n",
        "net = BaseNet()\n",
        "\n",
        "# For training on GPU, we need to transfer net and data onto the GPU\n",
        "# http://pytorch.org/tutorials/beginner/blitz/cifar10_tutorial.html#training-on-gpu\n",
        "if IS_GPU:\n",
        "    net = net.cuda()"
      ],
      "execution_count": null,
      "outputs": []
    },
    {
      "cell_type": "markdown",
      "source": [
        "## 1st trial - 0.58"
      ],
      "metadata": {
        "id": "WPyY3fF3PaZU"
      }
    },
    {
      "cell_type": "code",
      "source": [
        "2########################################################################\n",
        "# 2. Define a Convolution Neural Network\n",
        "# ^^^^^^^^^^^^^^^^^^^^^^^^^^^^^^^^^^^^^^\n",
        "# We provide a basic network that you should understand, run and\n",
        "# eventually improve\n",
        "# <<TODO>> Add more conv layers\n",
        "# <<TODO>> Add more fully connected (fc) layers\n",
        "# <<TODO>> Add regularization layers like Batchnorm.\n",
        "#          nn.BatchNorm2d after conv layers:\n",
        "#          http://pytorch.org/docs/master/nn.html#batchnorm2d\n",
        "#          nn.BatchNorm1d after fc layers:\n",
        "#          http://pytorch.org/docs/master/nn.html#batchnorm1d\n",
        "# This is a good resource for developing a CNN for classification:\n",
        "# http://cs231n.github.io/convolutional-networks/#layers\n",
        "\n",
        "import torch.nn as nn\n",
        "import torch.nn.functional as F\n",
        "\n",
        "class BaseNet(nn.Module):\n",
        "    def __init__(self):\n",
        "        super(BaseNet, self).__init__()\n",
        "        \n",
        "        # <<TODO#3>> Add more conv layers with increasing \n",
        "        # output channels\n",
        "        # <<TODO#4>> Add normalization layers after conv\n",
        "        # layers (nn.BatchNorm2d)\n",
        "\n",
        "        # Also experiment with kernel size in conv2d layers (say 3\n",
        "        # inspired from VGGNet)\n",
        "        # To keep it simple, keep the same kernel size\n",
        "        # (right now set to 5) in all conv layers.\n",
        "        # Do not have a maxpool layer after every conv layer in your\n",
        "        # deeper network as it leads to too much loss of information.\n",
        "\n",
        "        # self.conv1 = nn.Conv2d(3, 6, 5) # (in_channels, out_channels, kernel_size)\n",
        "        # self.pool = nn.MaxPool2d(2, 2)\n",
        "        # self.conv2 = nn.Conv2d(6, 16, 5)\n",
        "        # output_size = (in_size - k + 2 * p) / s + 1\n",
        "        self.conv_net = nn.Sequential(\n",
        "            \n",
        "            # Conv Layer 1\n",
        "            nn.Conv2d(3, 64, kernel_size=3, padding=1), # (64,32,32)\n",
        "            nn.BatchNorm2d(64, affine=False),\n",
        "            nn.ReLU(inplace=True),\n",
        "            nn.Conv2d(in_channels=64, out_channels=64, kernel_size=3, padding=1),\n",
        "            nn.BatchNorm2d(64, affine=False),\n",
        "            nn.ReLU(inplace=True),\n",
        "            nn.MaxPool2d(kernel_size=2, stride=2), # (64,16,16)\n",
        "\n",
        "            # Conv Layer 2\n",
        "            nn.Conv2d(64, 128, kernel_size=3, padding=1), # (128,16,16)\n",
        "            nn.BatchNorm2d(128, affine=False),\n",
        "            nn.ReLU(inplace=True),\n",
        "            nn.Conv2d(128, 128, kernel_size=3, padding=1),\n",
        "            nn.BatchNorm2d(128, affine=False),\n",
        "            nn.ReLU(inplace=True),\n",
        "            nn.MaxPool2d(kernel_size=2, stride=2),\n",
        "\n",
        "            # Conv Layer 2-1\n",
        "            nn.Conv2d(128, 128, kernel_size=3, padding=1), # (128,8,8)\n",
        "            nn.BatchNorm2d(128, affine=False),\n",
        "            nn.ReLU(inplace=True),\n",
        "            nn.Conv2d(128, 128, kernel_size=3, padding=1),\n",
        "            nn.BatchNorm2d(128, affine=False),\n",
        "            nn.ReLU(inplace=True),\n",
        "            nn.MaxPool2d(kernel_size=2, stride=2),\n",
        "\n",
        "            # Conv Layer 3\n",
        "            nn.Conv2d(128, 256, kernel_size=3, padding=1),  # (256,4,4)\n",
        "            nn.BatchNorm2d(256, affine=False),\n",
        "            nn.ReLU(inplace=True),\n",
        "            nn.Conv2d(256, 256, kernel_size=3, padding=1),\n",
        "            nn.BatchNorm2d(256, affine=False),\n",
        "            nn.ReLU(inplace=True),\n",
        "            nn.MaxPool2d(kernel_size=2, stride=2),\n",
        "\n",
        "            # Conv Layer 4\n",
        "            nn.Conv2d(256, 512, kernel_size=3, padding=1),  # (512,2,2)\n",
        "            nn.BatchNorm2d(512, affine=False),\n",
        "            nn.ReLU(inplace=True),\n",
        "            nn.Conv2d(512, 512, kernel_size=3, padding=1),\n",
        "            nn.BatchNorm2d(512, affine=False),\n",
        "            nn.ReLU(inplace=True),\n",
        "            nn.MaxPool2d(kernel_size=2, stride=2),  # (512,1,1)\n",
        "\n",
        "            # # Conv Layer 5\n",
        "            # nn.Conv2d(512, 512, kernel_size=3, padding=1), # (512,2,2)\n",
        "            # nn.BatchNorm2d(512, affine=False),\n",
        "            # nn.ReLU(inplace=True),\n",
        "            # nn.Conv2d(512, 512, kernel_size=3, padding=1),\n",
        "            # nn.BatchNorm2d(512, affine=False),\n",
        "            # nn.ReLU(inplace=True),\n",
        "            # nn.MaxPool2d(kernel_size=2, stride=2) # (512,1,1)\n",
        "        )\n",
        "        \n",
        "\n",
        "        # <<TODO#3>> Add more linear (fc) layers\n",
        "        # <<TODO#4>> Add normalization layers after linear and\n",
        "        # experiment inserting them before or after ReLU (nn.BatchNorm1d)\n",
        "        # More on nn.sequential:\n",
        "        # http://pytorch.org/docs/master/nn.html#torch.nn.Sequential\n",
        "        \n",
        "        # self.fc_net = nn.Sequential(\n",
        "        #     nn.Linear(16 * 5 * 5, TOTAL_CLASSES//2),  # nn.Linear(in_feature_size, out_feature_size)\n",
        "        #     nn.ReLU(inplace=True),\n",
        "        #     nn.Linear(TOTAL_CLASSES//2, TOTAL_CLASSES),\n",
        "        # )\n",
        "        \n",
        "\n",
        "        self.fc_net = nn.Sequential(\n",
        "            nn.Linear(512 * 1 * 1, TOTAL_CLASSES//2),  # nn.Linear(in_feature_size, out_feature_size)\n",
        "            # nn.Linear(500, TOTAL_CLASSES//2),  # nn.Linear(in_feature_size, out_feature_size)\n",
        "            nn.BatchNorm1d(TOTAL_CLASSES//2, affine=False), # added\n",
        "            nn.ReLU(inplace=True),\n",
        "            # nn.BatchNorm1d(TOTAL_CLASSES//2), # added\n",
        "            nn.Linear(TOTAL_CLASSES//2, TOTAL_CLASSES)\n",
        "        )\n",
        "\n",
        "    \n",
        "    def forward(self, x):\n",
        "\n",
        "        # <<TODO#3&#4>> Based on the above edits, you'll have\n",
        "        # to edit the forward pass description here.\n",
        "\n",
        "        # x = self.pool(F.relu(self.conv1(x)))\n",
        "        # # Output size = 28//2 x 28//2 = 14 x 14  # output: (6,14,14)\n",
        "        # x = self.pool(F.relu(self.conv2(x))) # output: (5,5,16)\n",
        "        # # Output size = 10//2 x 10//2 = 5 x 5\n",
        "        # input size (3,32,32)\n",
        "        x = self.conv_net(x)\n",
        "\n",
        "        # See the CS231 link to understand why this is 16*5*5!\n",
        "        # This will help you design your own deeper network\n",
        "        # x = x.view(-1, 16 * 5 * 5)  # x.view(shape): return same tensor w/ different shape. -1 is inferred from other dimensions\n",
        "        x = x.view(-1,  512 * 1 * 1)\n",
        "        # x = self.fc_net(x) # added\n",
        "        x = self.fc_net(x)\n",
        "        # x = self.fc_net2(x)\n",
        "\n",
        "        # No softmax is needed as the loss function in step 3\n",
        "        # takes care of that\n",
        "        \n",
        "        return x\n",
        "\n",
        "# Create an instance of the nn.module class defined above:\n",
        "net = BaseNet()\n",
        "\n",
        "# For training on GPU, we need to transfer net and data onto the GPU\n",
        "# http://pytorch.org/tutorials/beginner/blitz/cifar10_tutorial.html#training-on-gpu\n",
        "if IS_GPU:\n",
        "    net = net.cuda()"
      ],
      "metadata": {
        "id": "i5ZFyY6HOwt3"
      },
      "execution_count": null,
      "outputs": []
    },
    {
      "cell_type": "markdown",
      "source": [
        "## 2nd trial - 0.61"
      ],
      "metadata": {
        "id": "DmIFzehj4bOK"
      }
    },
    {
      "cell_type": "code",
      "source": [
        "2########################################################################\n",
        "# 2. Define a Convolution Neural Network\n",
        "# ^^^^^^^^^^^^^^^^^^^^^^^^^^^^^^^^^^^^^^\n",
        "# We provide a basic network that you should understand, run and\n",
        "# eventually improve\n",
        "# <<TODO>> Add more conv layers\n",
        "# <<TODO>> Add more fully connected (fc) layers\n",
        "# <<TODO>> Add regularization layers like Batchnorm.\n",
        "#          nn.BatchNorm2d after conv layers:\n",
        "#          http://pytorch.org/docs/master/nn.html#batchnorm2d\n",
        "#          nn.BatchNorm1d after fc layers:\n",
        "#          http://pytorch.org/docs/master/nn.html#batchnorm1d\n",
        "# This is a good resource for developing a CNN for classification:\n",
        "# http://cs231n.github.io/convolutional-networks/#layers\n",
        "\n",
        "import torch.nn as nn\n",
        "import torch.nn.functional as F\n",
        "\n",
        "class BaseNet(nn.Module):\n",
        "    def __init__(self):\n",
        "        super(BaseNet, self).__init__()\n",
        "        \n",
        "        # <<TODO#3>> Add more conv layers with increasing \n",
        "        # output channels\n",
        "        # <<TODO#4>> Add normalization layers after conv\n",
        "        # layers (nn.BatchNorm2d)\n",
        "\n",
        "        # Also experiment with kernel size in conv2d layers (say 3\n",
        "        # inspired from VGGNet)\n",
        "        # To keep it simple, keep the same kernel size\n",
        "        # (right now set to 5) in all conv layers.\n",
        "        # Do not have a maxpool layer after every conv layer in your\n",
        "        # deeper network as it leads to too much loss of information.\n",
        "\n",
        "        # self.conv1 = nn.Conv2d(3, 6, 5) # (in_channels, out_channels, kernel_size)\n",
        "        # self.pool = nn.MaxPool2d(2, 2)\n",
        "        # self.conv2 = nn.Conv2d(6, 16, 5)\n",
        "        # output_size = (in_size - k + 2 * p) / s + 1\n",
        "        self.conv_net = nn.Sequential(\n",
        "            \n",
        "            # Conv Layer 1\n",
        "            nn.Conv2d(3, 64, kernel_size=3, padding=1), # (64,32,32)\n",
        "            nn.BatchNorm2d(64, affine=False),\n",
        "            nn.ReLU(inplace=True),\n",
        "            nn.Conv2d(in_channels=64, out_channels=64, kernel_size=3, padding=1),\n",
        "            nn.BatchNorm2d(64, affine=False),\n",
        "            nn.ReLU(inplace=True),\n",
        "            nn.MaxPool2d(kernel_size=2, stride=2), # (64,16,16)\n",
        "\n",
        "            # Conv Layer 2\n",
        "            nn.Conv2d(64, 128, kernel_size=3, padding=1), # (128,16,16)\n",
        "            nn.BatchNorm2d(128, affine=False),\n",
        "            nn.ReLU(inplace=True),\n",
        "            nn.Conv2d(128, 128, kernel_size=3, padding=1),\n",
        "            nn.BatchNorm2d(128, affine=False),\n",
        "            nn.ReLU(inplace=True),\n",
        "            nn.MaxPool2d(kernel_size=2, stride=2),\n",
        "\n",
        "            # Conv Layer 2-1\n",
        "            # nn.Conv2d(128, 128, kernel_size=3, padding=1), # (128,8,8)\n",
        "            # nn.BatchNorm2d(128, affine=False),\n",
        "            # nn.ReLU(inplace=True),\n",
        "            # nn.Conv2d(128, 128, kernel_size=3, padding=1),\n",
        "            # nn.BatchNorm2d(128, affine=False),\n",
        "            # nn.ReLU(inplace=True),\n",
        "            # nn.MaxPool2d(kernel_size=2, stride=2),\n",
        "\n",
        "            # Conv Layer 3\n",
        "            nn.Conv2d(128, 256, kernel_size=3, padding=1),  # (256,8,8)\n",
        "            nn.BatchNorm2d(256, affine=False),\n",
        "            nn.ReLU(inplace=True),\n",
        "            nn.Conv2d(256, 256, kernel_size=3, padding=1),\n",
        "            nn.BatchNorm2d(256, affine=False),\n",
        "            nn.ReLU(inplace=True),\n",
        "            nn.MaxPool2d(kernel_size=2, stride=2),\n",
        "\n",
        "            # Conv Layer 4\n",
        "            nn.Conv2d(256, 512, kernel_size=3, padding=1),  # (512,4,4)\n",
        "            nn.BatchNorm2d(512, affine=False),\n",
        "            nn.ReLU(inplace=True),\n",
        "            nn.Conv2d(512, 512, kernel_size=3, padding=1),\n",
        "            nn.BatchNorm2d(512, affine=False),\n",
        "            nn.ReLU(inplace=True),\n",
        "            nn.MaxPool2d(kernel_size=2, stride=2),  # (512,2,2)\n",
        "\n",
        "            # Conv Layer 4 - 1\n",
        "            # nn.Conv2d(256, 512, kernel_size=3, padding=1),  # (512,4,4)\n",
        "            # nn.BatchNorm2d(512, affine=False),\n",
        "            # nn.ReLU(inplace=True),\n",
        "            # nn.Conv2d(512, 512, kernel_size=3, padding=1),\n",
        "            # nn.BatchNorm2d(512, affine=False),\n",
        "            # nn.ReLU(inplace=True),\n",
        "            # nn.MaxPool2d(kernel_size=3, padding=1, stride=1),  # (512,2,2)\n",
        "\n",
        "            # Conv Layer 5\n",
        "            nn.Conv2d(512, 512, kernel_size=3, padding=1), # (512,2,2)\n",
        "            nn.BatchNorm2d(512, affine=False),\n",
        "            nn.ReLU(inplace=True),\n",
        "            nn.Conv2d(512, 512, kernel_size=3, padding=1),\n",
        "            nn.BatchNorm2d(512, affine=False),\n",
        "            nn.ReLU(inplace=True),\n",
        "            nn.MaxPool2d(kernel_size=2, stride=2) # (512,1,1)\n",
        "            \n",
        "        )\n",
        "        \n",
        "\n",
        "        # <<TODO#3>> Add more linear (fc) layers\n",
        "        # <<TODO#4>> Add normalization layers after linear and\n",
        "        # experiment inserting them before or after ReLU (nn.BatchNorm1d)\n",
        "        # More on nn.sequential:\n",
        "        # http://pytorch.org/docs/master/nn.html#torch.nn.Sequential\n",
        "        \n",
        "        # self.fc_net = nn.Sequential(\n",
        "        #     nn.Linear(16 * 5 * 5, TOTAL_CLASSES//2),  # nn.Linear(in_feature_size, out_feature_size)\n",
        "        #     nn.ReLU(inplace=True),\n",
        "        #     nn.Linear(TOTAL_CLASSES//2, TOTAL_CLASSES),\n",
        "        # )\n",
        "        \n",
        "\n",
        "        self.fc_net = nn.Sequential(\n",
        "            nn.Linear(512 * 1 * 1, TOTAL_CLASSES//2),  # nn.Linear(in_feature_size, out_feature_size)\n",
        "            # nn.Linear(500, TOTAL_CLASSES//2),  # nn.Linear(in_feature_size, out_feature_size)\n",
        "            nn.BatchNorm1d(TOTAL_CLASSES//2, affine=False), # added\n",
        "            nn.ReLU(inplace=True),\n",
        "            # nn.BatchNorm1d(TOTAL_CLASSES//2), # added\n",
        "            nn.Linear(TOTAL_CLASSES//2, TOTAL_CLASSES)\n",
        "        )\n",
        "\n",
        "    \n",
        "    def forward(self, x):\n",
        "\n",
        "        # <<TODO#3&#4>> Based on the above edits, you'll have\n",
        "        # to edit the forward pass description here.\n",
        "\n",
        "        # x = self.pool(F.relu(self.conv1(x)))\n",
        "        # # Output size = 28//2 x 28//2 = 14 x 14  # output: (6,14,14)\n",
        "        # x = self.pool(F.relu(self.conv2(x))) # output: (5,5,16)\n",
        "        # # Output size = 10//2 x 10//2 = 5 x 5\n",
        "        # input size (3,32,32)\n",
        "        x = self.conv_net(x)\n",
        "\n",
        "        # See the CS231 link to understand why this is 16*5*5!\n",
        "        # This will help you design your own deeper network\n",
        "        # x = x.view(-1, 16 * 5 * 5)  # x.view(shape): return same tensor w/ different shape. -1 is inferred from other dimensions\n",
        "        x = x.view(-1,  512 * 1 * 1)\n",
        "        # x = self.fc_net(x) # added\n",
        "        x = self.fc_net(x)\n",
        "\n",
        "        # No softmax is needed as the loss function in step 3\n",
        "        # takes care of that\n",
        "        \n",
        "        return x\n",
        "\n",
        "# Create an instance of the nn.module class defined above:\n",
        "net = BaseNet()\n",
        "\n",
        "# For training on GPU, we need to transfer net and data onto the GPU\n",
        "# http://pytorch.org/tutorials/beginner/blitz/cifar10_tutorial.html#training-on-gpu\n",
        "if IS_GPU:\n",
        "    net = net.cuda()"
      ],
      "metadata": {
        "id": "QQP9SoCc4eC4"
      },
      "execution_count": null,
      "outputs": []
    },
    {
      "cell_type": "markdown",
      "source": [
        "## 3rd trial - 0.682\n",
        "- epoches = 50\n",
        "- batch_size = 32\n",
        "- lr = 0.0005\n",
        "- transforms:\n",
        "  - transforms.RandomCrop(32, padding=4)\n",
        "  - transforms.RandomHorizontalFlip(p=0.5)\n",
        "  - transforms.Normalize([0.485, 0.456, 0.406], [0.229, 0.224, 0.225])\n",
        "\n"
      ],
      "metadata": {
        "id": "t4E-USbfuH2d"
      }
    },
    {
      "cell_type": "code",
      "source": [
        "2########################################################################\n",
        "# 2. Define a Convolution Neural Network\n",
        "# ^^^^^^^^^^^^^^^^^^^^^^^^^^^^^^^^^^^^^^\n",
        "# We provide a basic network that you should understand, run and\n",
        "# eventually improve\n",
        "# <<TODO>> Add more conv layers\n",
        "# <<TODO>> Add more fully connected (fc) layers\n",
        "# <<TODO>> Add regularization layers like Batchnorm.\n",
        "#          nn.BatchNorm2d after conv layers:\n",
        "#          http://pytorch.org/docs/master/nn.html#batchnorm2d\n",
        "#          nn.BatchNorm1d after fc layers:\n",
        "#          http://pytorch.org/docs/master/nn.html#batchnorm1d\n",
        "# This is a good resource for developing a CNN for classification:\n",
        "# http://cs231n.github.io/convolutional-networks/#layers\n",
        "\n",
        "import torch.nn as nn\n",
        "import torch.nn.functional as F\n",
        "\n",
        "class BaseNet(nn.Module):\n",
        "    def __init__(self):\n",
        "        super(BaseNet, self).__init__()\n",
        "        \n",
        "        # <<TODO#3>> Add more conv layers with increasing \n",
        "        # output channels\n",
        "        # <<TODO#4>> Add normalization layers after conv\n",
        "        # layers (nn.BatchNorm2d)\n",
        "\n",
        "        # Also experiment with kernel size in conv2d layers (say 3\n",
        "        # inspired from VGGNet)\n",
        "        # To keep it simple, keep the same kernel size\n",
        "        # (right now set to 5) in all conv layers.\n",
        "        # Do not have a maxpool layer after every conv layer in your\n",
        "        # deeper network as it leads to too much loss of information.\n",
        "\n",
        "        # self.conv1 = nn.Conv2d(3, 6, 5) # (in_channels, out_channels, kernel_size)\n",
        "        # self.pool = nn.MaxPool2d(2, 2)\n",
        "        # self.conv2 = nn.Conv2d(6, 16, 5)\n",
        "        # output_size = (in_size - k + 2 * p) / s + 1\n",
        "        self.conv_net = nn.Sequential(\n",
        "            \n",
        "            # Conv Layer 1\n",
        "            nn.Conv2d(3, 64, kernel_size=3, padding=1), # (64,32,32)\n",
        "            nn.BatchNorm2d(64, affine=False),\n",
        "            nn.ReLU(inplace=True),\n",
        "            nn.Conv2d(in_channels=64, out_channels=128, kernel_size=3, padding=1),\n",
        "            nn.BatchNorm2d(128, affine=False),\n",
        "            nn.ReLU(inplace=True),\n",
        "            nn.Conv2d(in_channels=128, out_channels=128, kernel_size=3, padding=1),\n",
        "            nn.BatchNorm2d(128, affine=False),\n",
        "            nn.ReLU(inplace=True),\n",
        "            nn.MaxPool2d(kernel_size=2, stride=2), # (128,16,16)\n",
        "\n",
        "            # Conv Layer 2\n",
        "            # nn.Conv2d(64, 128, kernel_size=3, padding=1), # (128,16,16)\n",
        "            # nn.BatchNorm2d(128, affine=False),\n",
        "            # nn.ReLU(inplace=True),\n",
        "            # nn.Conv2d(128, 128, kernel_size=3, padding=1),\n",
        "            # nn.BatchNorm2d(128, affine=False),\n",
        "            # nn.ReLU(inplace=True),\n",
        "            # nn.MaxPool2d(kernel_size=2, stride=2),\n",
        "\n",
        "            # Conv Layer 2-1\n",
        "            # nn.Conv2d(128, 128, kernel_size=3, padding=1), # (128,8,8)\n",
        "            # nn.BatchNorm2d(128, affine=False),\n",
        "            # nn.ReLU(inplace=True),\n",
        "            # nn.Conv2d(128, 128, kernel_size=3, padding=1),\n",
        "            # nn.BatchNorm2d(128, affine=False),\n",
        "            # nn.ReLU(inplace=True),\n",
        "            # nn.MaxPool2d(kernel_size=2, stride=2),\n",
        "\n",
        "            # Conv Layer 3\n",
        "            nn.Conv2d(128, 256, kernel_size=3, padding=1),  # (256,16,16)\n",
        "            nn.BatchNorm2d(256, affine=False),\n",
        "            nn.ReLU(inplace=True),\n",
        "            nn.Conv2d(256, 256, kernel_size=3, padding=1),\n",
        "            nn.BatchNorm2d(256, affine=False),\n",
        "            nn.ReLU(inplace=True),\n",
        "             nn.Conv2d(256, 256, kernel_size=3, padding=1),\n",
        "            nn.BatchNorm2d(256, affine=False),\n",
        "            nn.ReLU(inplace=True),\n",
        "            nn.MaxPool2d(kernel_size=2, stride=2),\n",
        "\n",
        "            # Conv Layer 4\n",
        "            nn.Conv2d(256, 512, kernel_size=3, padding=1),  # (512,8,8)\n",
        "            nn.BatchNorm2d(512, affine=False),\n",
        "            nn.ReLU(inplace=True),\n",
        "            nn.Conv2d(512, 512, kernel_size=3, padding=1),\n",
        "            nn.BatchNorm2d(512, affine=False),\n",
        "            nn.ReLU(inplace=True),\n",
        "            nn.Conv2d(512, 512, kernel_size=3, padding=1),\n",
        "            nn.BatchNorm2d(512, affine=False),\n",
        "            nn.ReLU(inplace=True),\n",
        "            nn.MaxPool2d(kernel_size=2, stride=2),  # (512,4,4)\n",
        "\n",
        "            # Conv Layer 5\n",
        "            nn.Conv2d(512, 1024, kernel_size=3, padding=1), # (1024,4,4)\n",
        "            nn.BatchNorm2d(1024, affine=False),\n",
        "            nn.ReLU(inplace=True),\n",
        "            nn.Conv2d(1024, 1024, kernel_size=3, padding=1), # (1024,4,4)\n",
        "            nn.BatchNorm2d(1024, affine=False),\n",
        "            nn.ReLU(inplace=True),\n",
        "            nn.Conv2d(1024, 1024, kernel_size=3, padding=1),\n",
        "            nn.BatchNorm2d(1024, affine=False),\n",
        "            nn.ReLU(inplace=True),\n",
        "            nn.MaxPool2d(kernel_size=2, stride=2) # (1024,2,2)\n",
        "        )\n",
        "        \n",
        "\n",
        "        # <<TODO#3>> Add more linear (fc) layers\n",
        "        # <<TODO#4>> Add normalization layers after linear and\n",
        "        # experiment inserting them before or after ReLU (nn.BatchNorm1d)\n",
        "        # More on nn.sequential:\n",
        "        # http://pytorch.org/docs/master/nn.html#torch.nn.Sequential\n",
        "        \n",
        "        # self.fc_net = nn.Sequential(\n",
        "        #     nn.Linear(16 * 5 * 5, TOTAL_CLASSES//2),  # nn.Linear(in_feature_size, out_feature_size)\n",
        "        #     nn.ReLU(inplace=True),\n",
        "        #     nn.Linear(TOTAL_CLASSES//2, TOTAL_CLASSES),\n",
        "        # )\n",
        "        \n",
        "\n",
        "        # self.fc_net = nn.Sequential(\n",
        "        #     nn.Linear(512 * 1 * 1, TOTAL_CLASSES//2),  # nn.Linear(in_feature_size, out_feature_size)\n",
        "        #     # nn.Linear(500, TOTAL_CLASSES//2),  # nn.Linear(in_feature_size, out_feature_size)\n",
        "        #     nn.BatchNorm1d(TOTAL_CLASSES//2, affine=False), # added\n",
        "        #     nn.ReLU(inplace=True),\n",
        "        #     # nn.BatchNorm1d(TOTAL_CLASSES//2), # added\n",
        "        #     nn.Linear(TOTAL_CLASSES//2, TOTAL_CLASSES)\n",
        "        \n",
        "        self.fc_net = nn.Sequential(\n",
        "            nn.Linear(1024 * 2 * 2, 4096),  # nn.Linear(in_feature_size, out_feature_size)\n",
        "            # nn.Linear(500, TOTAL_CLASSES//2),  # nn.Linear(in_feature_size, out_feature_size)\n",
        "            nn.BatchNorm1d(4096, affine=False), # added\n",
        "            nn.ReLU(inplace=True),\n",
        "            nn.Dropout(0.3), # added\n",
        "\n",
        "            nn.Linear(4096, 4096), # added\n",
        "            nn.BatchNorm1d(4096, affine=False), # added\n",
        "            nn.ReLU(inplace=True), # added\n",
        "            nn.Dropout(0.3), # added\n",
        "            \n",
        "            # nn.Linear(TOTAL_CLASSES//2, TOTAL_CLASSES)\n",
        "            nn.Linear(4096, TOTAL_CLASSES)\n",
        "        )\n",
        "\n",
        "    \n",
        "    def forward(self, x):\n",
        "\n",
        "        # <<TODO#3&#4>> Based on the above edits, you'll have\n",
        "        # to edit the forward pass description here.\n",
        "\n",
        "        # x = self.pool(F.relu(self.conv1(x)))\n",
        "        # # Output size = 28//2 x 28//2 = 14 x 14  # output: (6,14,14)\n",
        "        # x = self.pool(F.relu(self.conv2(x))) # output: (5,5,16)\n",
        "        # # Output size = 10//2 x 10//2 = 5 x 5\n",
        "        # input size (3,32,32)\n",
        "        x = self.conv_net(x)\n",
        "\n",
        "        # See the CS231 link to understand why this is 16*5*5!\n",
        "        # This will help you design your own deeper network\n",
        "        # x = x.view(-1, 16 * 5 * 5)  # x.view(shape): return same tensor w/ different shape. -1 is inferred from other dimensions\n",
        "        x = x.view(-1,  1024 * 2 * 2)\n",
        "        x = self.fc_net(x)\n",
        "\n",
        "        # No softmax is needed as the loss function in step 3\n",
        "        # takes care of that\n",
        "        \n",
        "        return x\n",
        "\n",
        "# Create an instance of the nn.module class defined above:\n",
        "net = BaseNet()\n",
        "\n",
        "# For training on GPU, we need to transfer net and data onto the GPU\n",
        "# http://pytorch.org/tutorials/beginner/blitz/cifar10_tutorial.html#training-on-gpu\n",
        "if IS_GPU:\n",
        "    net = net.cuda()"
      ],
      "metadata": {
        "id": "Crv5KNLruKGx"
      },
      "execution_count": null,
      "outputs": []
    },
    {
      "cell_type": "markdown",
      "source": [
        "## 4th trial (5th entry) - 0.692\n",
        "- Learning rate\n",
        " - optimizer = optim.SGD(net.parameters(), lr=0.001, momentum=0.9) #, weight_decay=0.0005) \n",
        " - scheduler = MultiStepLR(optimizer, [15, 30], gamma=0.1)\n",
        "- batches = 64\n",
        "- epoches = 50\n",
        "- transforms as 3rd trial."
      ],
      "metadata": {
        "id": "Kd2UbR1HvJjb"
      }
    },
    {
      "cell_type": "code",
      "source": [
        "2########################################################################\n",
        "# 2. Define a Convolution Neural Network\n",
        "# ^^^^^^^^^^^^^^^^^^^^^^^^^^^^^^^^^^^^^^\n",
        "# We provide a basic network that you should understand, run and\n",
        "# eventually improve\n",
        "# <<TODO>> Add more conv layers\n",
        "# <<TODO>> Add more fully connected (fc) layers\n",
        "# <<TODO>> Add regularization layers like Batchnorm.\n",
        "#          nn.BatchNorm2d after conv layers:\n",
        "#          http://pytorch.org/docs/master/nn.html#batchnorm2d\n",
        "#          nn.BatchNorm1d after fc layers:\n",
        "#          http://pytorch.org/docs/master/nn.html#batchnorm1d\n",
        "# This is a good resource for developing a CNN for classification:\n",
        "# http://cs231n.github.io/convolutional-networks/#layers\n",
        "\n",
        "import torch.nn as nn\n",
        "import torch.nn.functional as F\n",
        "\n",
        "class BaseNet(nn.Module):\n",
        "    def __init__(self):\n",
        "        super(BaseNet, self).__init__()\n",
        "        \n",
        "        # <<TODO#3>> Add more conv layers with increasing \n",
        "        # output channels\n",
        "        # <<TODO#4>> Add normalization layers after conv\n",
        "        # layers (nn.BatchNorm2d)\n",
        "\n",
        "        # Also experiment with kernel size in conv2d layers (say 3\n",
        "        # inspired from VGGNet)\n",
        "        # To keep it simple, keep the same kernel size\n",
        "        # (right now set to 5) in all conv layers.\n",
        "        # Do not have a maxpool layer after every conv layer in your\n",
        "        # deeper network as it leads to too much loss of information.\n",
        "\n",
        "        # self.conv1 = nn.Conv2d(3, 6, 5) # (in_channels, out_channels, kernel_size)\n",
        "        # self.pool = nn.MaxPool2d(2, 2)\n",
        "        # self.conv2 = nn.Conv2d(6, 16, 5)\n",
        "        # output_size = (in_size - k + 2 * p) / s + 1\n",
        "        self.conv_net = nn.Sequential(\n",
        "            \n",
        "            # Conv Layer 1\n",
        "            nn.Conv2d(3, 64, kernel_size=3, padding=1), # (64,32,32)\n",
        "            nn.BatchNorm2d(64, affine=False),\n",
        "            nn.ReLU(inplace=True),\n",
        "            nn.Conv2d(in_channels=64, out_channels=128, kernel_size=3, padding=1),\n",
        "            nn.BatchNorm2d(128, affine=False),\n",
        "            nn.ReLU(inplace=True),\n",
        "            nn.Conv2d(in_channels=128, out_channels=128, kernel_size=3, padding=1),\n",
        "            nn.BatchNorm2d(128, affine=False),\n",
        "            nn.ReLU(inplace=True),\n",
        "            nn.MaxPool2d(kernel_size=2, stride=2), # (128,16,16)\n",
        "\n",
        "            # Conv Layer 2\n",
        "            # nn.Conv2d(64, 128, kernel_size=3, padding=1), # (128,16,16)\n",
        "            # nn.BatchNorm2d(128, affine=False),\n",
        "            # nn.ReLU(inplace=True),\n",
        "            # nn.Conv2d(128, 128, kernel_size=3, padding=1),\n",
        "            # nn.BatchNorm2d(128, affine=False),\n",
        "            # nn.ReLU(inplace=True),\n",
        "            # nn.MaxPool2d(kernel_size=2, stride=2),\n",
        "\n",
        "            # Conv Layer 2-1\n",
        "            # nn.Conv2d(128, 128, kernel_size=3, padding=1), # (128,8,8)\n",
        "            # nn.BatchNorm2d(128, affine=False),\n",
        "            # nn.ReLU(inplace=True),\n",
        "            # nn.Conv2d(128, 128, kernel_size=3, padding=1),\n",
        "            # nn.BatchNorm2d(128, affine=False),\n",
        "            # nn.ReLU(inplace=True),\n",
        "            # nn.MaxPool2d(kernel_size=2, stride=2),\n",
        "\n",
        "            # Conv Layer 3\n",
        "            nn.Conv2d(128, 256, kernel_size=3, padding=1),  # (256,16,16)\n",
        "            nn.BatchNorm2d(256), #, affine=False),\n",
        "            nn.ReLU(inplace=True),\n",
        "            nn.Conv2d(256, 256, kernel_size=3, padding=1),\n",
        "            nn.BatchNorm2d(256), #, affine=False),\n",
        "            nn.ReLU(inplace=True),\n",
        "             nn.Conv2d(256, 256, kernel_size=3, padding=1),\n",
        "            nn.BatchNorm2d(256), #, affine=False),\n",
        "            nn.ReLU(inplace=True),\n",
        "            nn.MaxPool2d(kernel_size=2, stride=2),\n",
        "\n",
        "            # Conv Layer 4\n",
        "            nn.Conv2d(256, 512, kernel_size=3, padding=1),  # (512,8,8)\n",
        "            nn.BatchNorm2d(512), #, affine=False),\n",
        "            nn.ReLU(inplace=True),\n",
        "            nn.Conv2d(512, 512, kernel_size=3, padding=1),\n",
        "            nn.BatchNorm2d(512), #, affine=False),\n",
        "            nn.ReLU(inplace=True),\n",
        "            nn.Conv2d(512, 512, kernel_size=3, padding=1),\n",
        "            nn.BatchNorm2d(512), #, affine=False),\n",
        "            nn.ReLU(inplace=True),\n",
        "            nn.MaxPool2d(kernel_size=2, stride=2),  # (512,4,4)\n",
        "\n",
        "            # Conv Layer 5\n",
        "            nn.Conv2d(512, 1024, kernel_size=3, padding=1), # (1024,4,4)\n",
        "            nn.BatchNorm2d(1024), #, affine=False),\n",
        "            nn.ReLU(inplace=True),\n",
        "            nn.Conv2d(1024, 1024, kernel_size=3, padding=1), # (1024,4,4)\n",
        "            nn.BatchNorm2d(1024), #, affine=False),\n",
        "            nn.ReLU(inplace=True),\n",
        "            nn.Conv2d(1024, 1024, kernel_size=3, padding=1),\n",
        "            nn.BatchNorm2d(1024), #, affine=False),\n",
        "            nn.ReLU(inplace=True),\n",
        "            nn.MaxPool2d(kernel_size=2, stride=2) # (1024,2,2)\n",
        "        )\n",
        "        \n",
        "\n",
        "        # <<TODO#3>> Add more linear (fc) layers\n",
        "        # <<TODO#4>> Add normalization layers after linear and\n",
        "        # experiment inserting them before or after ReLU (nn.BatchNorm1d)\n",
        "        # More on nn.sequential:\n",
        "        # http://pytorch.org/docs/master/nn.html#torch.nn.Sequential\n",
        "        \n",
        "        # self.fc_net = nn.Sequential(\n",
        "        #     nn.Linear(16 * 5 * 5, TOTAL_CLASSES//2),  # nn.Linear(in_feature_size, out_feature_size)\n",
        "        #     nn.ReLU(inplace=True),\n",
        "        #     nn.Linear(TOTAL_CLASSES//2, TOTAL_CLASSES),\n",
        "        # )\n",
        "        \n",
        "\n",
        "        # self.fc_net = nn.Sequential(\n",
        "        #     nn.Linear(512 * 1 * 1, TOTAL_CLASSES//2),  # nn.Linear(in_feature_size, out_feature_size)\n",
        "        #     # nn.Linear(500, TOTAL_CLASSES//2),  # nn.Linear(in_feature_size, out_feature_size)\n",
        "        #     nn.BatchNorm1d(TOTAL_CLASSES//2, affine=False), # added\n",
        "        #     nn.ReLU(inplace=True),\n",
        "        #     # nn.BatchNorm1d(TOTAL_CLASSES//2), # added\n",
        "        #     nn.Linear(TOTAL_CLASSES//2, TOTAL_CLASSES)\n",
        "        \n",
        "        self.fc_net = nn.Sequential(\n",
        "            nn.Linear(1024 * 2 * 2, 4096),  # nn.Linear(in_feature_size, out_feature_size)\n",
        "            # nn.Linear(500, TOTAL_CLASSES//2),  # nn.Linear(in_feature_size, out_feature_size)\n",
        "            nn.BatchNorm1d(4096), #, affine=False), # added\n",
        "            nn.ReLU(inplace=True),\n",
        "            nn.Dropout(0.3), # added\n",
        "\n",
        "            nn.Linear(4096, 4096), # added\n",
        "            nn.BatchNorm1d(4096), #, affine=False), # added\n",
        "            nn.ReLU(inplace=True), # added\n",
        "            nn.Dropout(0.3), # added\n",
        "            \n",
        "            # nn.Linear(TOTAL_CLASSES//2, TOTAL_CLASSES)\n",
        "            nn.Linear(4096, TOTAL_CLASSES)\n",
        "        )\n",
        "\n",
        "    \n",
        "    def forward(self, x):\n",
        "\n",
        "        # <<TODO#3&#4>> Based on the above edits, you'll have\n",
        "        # to edit the forward pass description here.\n",
        "\n",
        "        # x = self.pool(F.relu(self.conv1(x)))\n",
        "        # # Output size = 28//2 x 28//2 = 14 x 14  # output: (6,14,14)\n",
        "        # x = self.pool(F.relu(self.conv2(x))) # output: (5,5,16)\n",
        "        # # Output size = 10//2 x 10//2 = 5 x 5\n",
        "        # input size (3,32,32)\n",
        "        x = self.conv_net(x)\n",
        "\n",
        "        # See the CS231 link to understand why this is 16*5*5!\n",
        "        # This will help you design your own deeper network\n",
        "        # x = x.view(-1, 16 * 5 * 5)  # x.view(shape): return same tensor w/ different shape. -1 is inferred from other dimensions\n",
        "        x = x.view(-1,  1024 * 2 * 2)\n",
        "        x = self.fc_net(x)\n",
        "\n",
        "        # No softmax is needed as the loss function in step 3\n",
        "        # takes care of that\n",
        "        \n",
        "        return x\n",
        "\n",
        "# Create an instance of the nn.module class defined above:\n",
        "net = BaseNet()\n",
        "\n",
        "# For training on GPU, we need to transfer net and data onto the GPU\n",
        "# http://pytorch.org/tutorials/beginner/blitz/cifar10_tutorial.html#training-on-gpu\n",
        "if IS_GPU:\n",
        "    net = net.cuda()"
      ],
      "metadata": {
        "id": "lsIETYmpvL10"
      },
      "execution_count": null,
      "outputs": []
    },
    {
      "cell_type": "markdown",
      "source": [
        "## 5th trial - 0.698\n",
        "- transforms\n",
        " - transforms.RandomCrop(32, padding=4),\\\n",
        "   transforms.RandomHorizontalFlip(p=0.5),\\\n",
        "   transforms.Normalize([0.485, 0.456, 0.406], [0.229, 0.224, 0.225])\n",
        "- EPOCHS = 50 \n",
        "- TEST_BS = 256\n",
        "- TRAIN_BS = 64\n",
        "- optimizer = optim.SGD(net.parameters(), lr=0.01, momentum=0.9) #, weight_decay=0.0005) \\\n",
        "scheduler = MultiStepLR(optimizer, [15, 30], gamma=0.1)"
      ],
      "metadata": {
        "id": "qyNqRTjychvg"
      }
    },
    {
      "cell_type": "code",
      "source": [
        "2########################################################################\n",
        "# 2. Define a Convolution Neural Network\n",
        "# ^^^^^^^^^^^^^^^^^^^^^^^^^^^^^^^^^^^^^^\n",
        "# We provide a basic network that you should understand, run and\n",
        "# eventually improve\n",
        "# <<TODO>> Add more conv layers\n",
        "# <<TODO>> Add more fully connected (fc) layers\n",
        "# <<TODO>> Add regularization layers like Batchnorm.\n",
        "#          nn.BatchNorm2d after conv layers:\n",
        "#          http://pytorch.org/docs/master/nn.html#batchnorm2d\n",
        "#          nn.BatchNorm1d after fc layers:\n",
        "#          http://pytorch.org/docs/master/nn.html#batchnorm1d\n",
        "# This is a good resource for developing a CNN for classification:\n",
        "# http://cs231n.github.io/convolutional-networks/#layers\n",
        "\n",
        "import torch.nn as nn\n",
        "import torch.nn.functional as F\n",
        "\n",
        "class BaseNet(nn.Module):\n",
        "    def __init__(self):\n",
        "        super(BaseNet, self).__init__()\n",
        "        \n",
        "        # <<TODO#3>> Add more conv layers with increasing \n",
        "        # output channels\n",
        "        # <<TODO#4>> Add normalization layers after conv\n",
        "        # layers (nn.BatchNorm2d)\n",
        "\n",
        "        # Also experiment with kernel size in conv2d layers (say 3\n",
        "        # inspired from VGGNet)\n",
        "        # To keep it simple, keep the same kernel size\n",
        "        # (right now set to 5) in all conv layers.\n",
        "        # Do not have a maxpool layer after every conv layer in your\n",
        "        # deeper network as it leads to too much loss of information.\n",
        "\n",
        "        # self.conv1 = nn.Conv2d(3, 6, 5) # (in_channels, out_channels, kernel_size)\n",
        "        # self.pool = nn.MaxPool2d(2, 2)\n",
        "        # self.conv2 = nn.Conv2d(6, 16, 5)\n",
        "        # output_size = (in_size - k + 2 * p) / s + 1\n",
        "        self.conv_net = nn.Sequential(\n",
        "            \n",
        "            # Conv Layer 1\n",
        "            nn.Conv2d(3, 64, kernel_size=3, padding=1), # (64,32,32)\n",
        "            nn.BatchNorm2d(64, affine=False),\n",
        "            nn.ReLU(inplace=True),\n",
        "            nn.Conv2d(in_channels=64, out_channels=128, kernel_size=3, padding=1),\n",
        "            nn.BatchNorm2d(128, affine=False),\n",
        "            nn.ReLU(inplace=True),\n",
        "            nn.Conv2d(in_channels=128, out_channels=128, kernel_size=3, padding=1),\n",
        "            nn.BatchNorm2d(128, affine=False),\n",
        "            nn.ReLU(inplace=True),\n",
        "            nn.AvgPool2d(kernel_size=2, stride=2), # (128,16,16)\n",
        "\n",
        "            # Conv Layer 2\n",
        "            # nn.Conv2d(64, 128, kernel_size=3, padding=1), # (128,16,16)\n",
        "            # nn.BatchNorm2d(128, affine=False),\n",
        "            # nn.ReLU(inplace=True),\n",
        "            # nn.Conv2d(128, 128, kernel_size=3, padding=1),\n",
        "            # nn.BatchNorm2d(128, affine=False),\n",
        "            # nn.ReLU(inplace=True),\n",
        "            # nn.MaxPool2d(kernel_size=2, stride=2),\n",
        "\n",
        "            # Conv Layer 2-1\n",
        "            # nn.Conv2d(128, 128, kernel_size=3, padding=1), # (128,8,8)\n",
        "            # nn.BatchNorm2d(128, affine=False),\n",
        "            # nn.ReLU(inplace=True),\n",
        "            # nn.Conv2d(128, 128, kernel_size=3, padding=1),\n",
        "            # nn.BatchNorm2d(128, affine=False),\n",
        "            # nn.ReLU(inplace=True),\n",
        "            # nn.MaxPool2d(kernel_size=2, stride=2),\n",
        "\n",
        "            # Conv Layer 3\n",
        "            nn.Conv2d(128, 256, kernel_size=3, padding=1),  # (256,16,16)\n",
        "            nn.BatchNorm2d(256), #, affine=False),\n",
        "            nn.ReLU(inplace=True),\n",
        "            nn.Conv2d(256, 256, kernel_size=3, padding=1),\n",
        "            nn.BatchNorm2d(256), #, affine=False),\n",
        "            nn.ReLU(inplace=True),\n",
        "             nn.Conv2d(256, 256, kernel_size=3, padding=1),\n",
        "            nn.BatchNorm2d(256), #, affine=False),\n",
        "            nn.ReLU(inplace=True),\n",
        "            nn.AvgPool2d(kernel_size=2, stride=2),\n",
        "\n",
        "            # Conv Layer 4\n",
        "            nn.Conv2d(256, 512, kernel_size=3, padding=1),  # (512,8,8)\n",
        "            nn.BatchNorm2d(512), #, affine=False),\n",
        "            nn.ReLU(inplace=True),\n",
        "            nn.Conv2d(512, 512, kernel_size=3, padding=1),\n",
        "            nn.BatchNorm2d(512), #, affine=False),\n",
        "            nn.ReLU(inplace=True),\n",
        "            nn.Conv2d(512, 512, kernel_size=3, padding=1),\n",
        "            nn.BatchNorm2d(512), #, affine=False),\n",
        "            nn.ReLU(inplace=True),\n",
        "            nn.AvgPool2d(kernel_size=2, stride=2),  # (512,4,4)\n",
        "\n",
        "            # Conv Layer 5\n",
        "            nn.Conv2d(512, 1024, kernel_size=3, padding=1), # (1024,4,4)\n",
        "            nn.BatchNorm2d(1024), #, affine=False),\n",
        "            nn.ReLU(inplace=True),\n",
        "            nn.Conv2d(1024, 1024, kernel_size=3, padding=1), # (1024,4,4)\n",
        "            nn.BatchNorm2d(1024), #, affine=False),\n",
        "            nn.ReLU(inplace=True),\n",
        "            nn.Conv2d(1024, 1024, kernel_size=3, padding=1),\n",
        "            nn.BatchNorm2d(1024), #, affine=False),\n",
        "            nn.ReLU(inplace=True),\n",
        "            nn.AvgPool2d(kernel_size=2, stride=2) # (1024,2,2)\n",
        "        )\n",
        "        \n",
        "\n",
        "        # <<TODO#3>> Add more linear (fc) layers\n",
        "        # <<TODO#4>> Add normalization layers after linear and\n",
        "        # experiment inserting them before or after ReLU (nn.BatchNorm1d)\n",
        "        # More on nn.sequential:\n",
        "        # http://pytorch.org/docs/master/nn.html#torch.nn.Sequential\n",
        "        \n",
        "        # self.fc_net = nn.Sequential(\n",
        "        #     nn.Linear(16 * 5 * 5, TOTAL_CLASSES//2),  # nn.Linear(in_feature_size, out_feature_size)\n",
        "        #     nn.ReLU(inplace=True),\n",
        "        #     nn.Linear(TOTAL_CLASSES//2, TOTAL_CLASSES),\n",
        "        # )\n",
        "        \n",
        "\n",
        "        # self.fc_net = nn.Sequential(\n",
        "        #     nn.Linear(512 * 1 * 1, TOTAL_CLASSES//2),  # nn.Linear(in_feature_size, out_feature_size)\n",
        "        #     # nn.Linear(500, TOTAL_CLASSES//2),  # nn.Linear(in_feature_size, out_feature_size)\n",
        "        #     nn.BatchNorm1d(TOTAL_CLASSES//2, affine=False), # added\n",
        "        #     nn.ReLU(inplace=True),\n",
        "        #     # nn.BatchNorm1d(TOTAL_CLASSES//2), # added\n",
        "        #     nn.Linear(TOTAL_CLASSES//2, TOTAL_CLASSES)\n",
        "        \n",
        "        self.fc_net = nn.Sequential(\n",
        "            nn.Linear(1024 * 2 * 2, 4096),  # nn.Linear(in_feature_size, out_feature_size)\n",
        "            # nn.Linear(500, TOTAL_CLASSES//2),  # nn.Linear(in_feature_size, out_feature_size)\n",
        "            nn.BatchNorm1d(4096), #, affine=False), # added\n",
        "            nn.ReLU(inplace=True),\n",
        "            nn.Dropout(0.3), # added\n",
        "\n",
        "            nn.Linear(4096, 4096), # added\n",
        "            nn.BatchNorm1d(4096), #, affine=False), # added\n",
        "            nn.ReLU(inplace=True), # added\n",
        "            nn.Dropout(0.3), # added\n",
        "            \n",
        "            # nn.Linear(TOTAL_CLASSES//2, TOTAL_CLASSES)\n",
        "            nn.Linear(4096, TOTAL_CLASSES)\n",
        "        )\n",
        "\n",
        "    \n",
        "    def forward(self, x):\n",
        "\n",
        "        # <<TODO#3&#4>> Based on the above edits, you'll have\n",
        "        # to edit the forward pass description here.\n",
        "\n",
        "        # x = self.pool(F.relu(self.conv1(x)))\n",
        "        # # Output size = 28//2 x 28//2 = 14 x 14  # output: (6,14,14)\n",
        "        # x = self.pool(F.relu(self.conv2(x))) # output: (5,5,16)\n",
        "        # # Output size = 10//2 x 10//2 = 5 x 5\n",
        "        # input size (3,32,32)\n",
        "        x = self.conv_net(x)\n",
        "\n",
        "        # See the CS231 link to understand why this is 16*5*5!\n",
        "        # This will help you design your own deeper network\n",
        "        # x = x.view(-1, 16 * 5 * 5)  # x.view(shape): return same tensor w/ different shape. -1 is inferred from other dimensions\n",
        "        x = x.view(-1,  1024 * 2 * 2)\n",
        "        x = self.fc_net(x)\n",
        "\n",
        "        # No softmax is needed as the loss function in step 3\n",
        "        # takes care of that\n",
        "        \n",
        "        return x\n",
        "\n",
        "# Create an instance of the nn.module class defined above:\n",
        "net = BaseNet()\n",
        "\n",
        "# For training on GPU, we need to transfer net and data onto the GPU\n",
        "# http://pytorch.org/tutorials/beginner/blitz/cifar10_tutorial.html#training-on-gpu\n",
        "if IS_GPU:\n",
        "    net = net.cuda()"
      ],
      "metadata": {
        "id": "_3pL6TyebIg2"
      },
      "execution_count": null,
      "outputs": []
    },
    {
      "cell_type": "markdown",
      "source": [
        "## original part"
      ],
      "metadata": {
        "id": "YA-JPBnCaJKi"
      }
    },
    {
      "cell_type": "code",
      "metadata": {
        "id": "zAZjIcLOdp-W"
      },
      "source": [
        "########################################################################\n",
        "# 3. Define a Loss function and optimizer\n",
        "# ^^^^^^^^^^^^^^^^^^^^^^^^^^^^^^^^^^^^^^^\n",
        "# Here we use Cross-Entropy loss and SGD with momentum.\n",
        "# The CrossEntropyLoss criterion already includes softmax within its\n",
        "# implementation. That's why we don't use a softmax in our model\n",
        "# definition.\n",
        "\n",
        "import torch.optim as optim\n",
        "from torch.optim.lr_scheduler import MultiStepLR as MultiStepLR\n",
        "\n",
        "criterion = nn.CrossEntropyLoss()\n",
        "\n",
        "# Tune the learning rate.\n",
        "# See whether the momentum is useful or not\n",
        "optimizer = optim.SGD(net.parameters(), lr=0.01, momentum=0.9) #, weight_decay=0.0005) # lr=0.005\n",
        "scheduler = MultiStepLR(optimizer, [15, 30], gamma=0.1)\n",
        "\n",
        "plt.ioff()\n",
        "fig = plt.figure()\n",
        "train_loss_over_epochs = []\n",
        "val_accuracy_over_epochs = []\n"
      ],
      "execution_count": null,
      "outputs": []
    },
    {
      "cell_type": "code",
      "metadata": {
        "id": "Ku7eF366dyUP"
      },
      "source": [
        "########################################################################\n",
        "# 4. Train the network\n",
        "# ^^^^^^^^^^^^^^^^^^^^\n",
        "#\n",
        "# We simply have to loop over our data iterator, and feed the inputs to the\n",
        "# network and optimize. We evaluate the validation accuracy at each\n",
        "# epoch and plot these values over the number of epochs\n",
        "# Nothing to change here\n",
        "# -----------------------------\n",
        "for epoch in range(EPOCHS):  # loop over the dataset multiple times\n",
        "\n",
        "    running_loss = 0.0\n",
        "    for i, data in enumerate(trainloader, 0):\n",
        "        # get the inputs\n",
        "        inputs, labels = data\n",
        "\n",
        "        if IS_GPU:\n",
        "            inputs = inputs.cuda()\n",
        "            labels = labels.cuda()\n",
        "\n",
        "        # wrap them in Variable\n",
        "        inputs, labels = Variable(inputs), Variable(labels)\n",
        "\n",
        "        # zero the parameter gradients\n",
        "        optimizer.zero_grad()\n",
        "\n",
        "        # forward + backward + optimize\n",
        "        # print(inputs.size())\n",
        "        outputs = net(inputs)\n",
        "        loss = criterion(outputs, labels)\n",
        "        loss.backward()\n",
        "        optimizer.step()\n",
        "\n",
        "        # print statistics\n",
        "        running_loss += loss.item()\n",
        "    \n",
        "    # Normalizing the loss by the total number of train batches\n",
        "    running_loss/=len(trainloader)\n",
        "    print('[%d] loss: %.3f' %\n",
        "          (epoch + 1, running_loss))\n",
        "\n",
        "    # Scale of 0.0 to 100.0\n",
        "    # Calculate validation set accuracy of the existing model\n",
        "    val_accuracy, val_classwise_accuracy = \\\n",
        "        calculate_val_accuracy(valloader, IS_GPU)\n",
        "    print('Accuracy of the network on the val images: %d %%' % (val_accuracy))\n",
        "\n",
        "    # # Optionally print classwise accuracies\n",
        "    # for c_i in range(TOTAL_CLASSES):\n",
        "    #     print('Accuracy of %5s : %2d %%' % (\n",
        "    #         classes[c_i], 100 * val_classwise_accuracy[c_i]))\n",
        "\n",
        "    train_loss_over_epochs.append(running_loss)\n",
        "    val_accuracy_over_epochs.append(val_accuracy.cpu())\n",
        "\n",
        "    # added\n",
        "    scheduler.step()\n",
        "\n",
        "# -----------------------------\n",
        "\n",
        "\n",
        "# Plot train loss over epochs and val set accuracy over epochs\n",
        "# Nothing to change here\n",
        "# -------------\n",
        "plt.subplot(2, 1, 1)\n",
        "plt.ylabel('Train loss')\n",
        "plt.plot(np.arange(EPOCHS), train_loss_over_epochs, 'k-')\n",
        "plt.title('train loss and val accuracy')\n",
        "plt.xticks(np.arange(EPOCHS, dtype=int))\n",
        "plt.grid(True)\n",
        "\n",
        "plt.subplot(2, 1, 2)\n",
        "# Added for a bug fix.\n",
        "val_accuracy_over_epochs = torch.tensor(val_accuracy_over_epochs, device = 'cpu')\n",
        "plt.plot(np.arange(EPOCHS), val_accuracy_over_epochs, 'b-')\n",
        "plt.ylabel('Val accuracy')\n",
        "plt.xlabel('Epochs')\n",
        "plt.xticks(np.arange(EPOCHS, dtype=int))\n",
        "plt.grid(True)\n",
        "plt.savefig(\"plot.png\")\n",
        "plt.close(fig)\n",
        "print('Finished Training')\n",
        "# -------------"
      ],
      "execution_count": null,
      "outputs": []
    },
    {
      "cell_type": "code",
      "metadata": {
        "id": "v1GE8t3mRdy9"
      },
      "source": [
        "########################################################################\n",
        "# 5. Try the network on test data, and create .csv file\n",
        "# ^^^^^^^^^^^^^^^^^^^^^^^^^^^^^^^^^^^^^^^^^^^^^^^^^^^^^\n",
        "########################################################################\n",
        "\n",
        "# Check out why .eval() is important!\n",
        "# https://discuss.pytorch.org/t/model-train-and-model-eval-vs-model-and-model-eval/5744/2\n",
        "net.eval()\n",
        "\n",
        "total = 0\n",
        "predictions = []\n",
        "for data in testloader:\n",
        "    images, labels = data\n",
        "\n",
        "    # For training on GPU, we need to transfer net and data onto the GPU\n",
        "    # http://pytorch.org/tutorials/beginner/blitz/cifar10_tutorial.html#training-on-gpu\n",
        "    if IS_GPU:\n",
        "        images = images.cuda()\n",
        "        labels = labels.cuda()\n",
        "    \n",
        "    outputs = net(Variable(images))\n",
        "    _, predicted = torch.max(outputs.data, 1)\n",
        "    predictions.extend(list(predicted.cpu().numpy()))\n",
        "    total += labels.size(0)\n",
        "\n",
        "with open('submission_netid.csv', 'w') as csvfile:\n",
        "    wr = csv.writer(csvfile, quoting=csv.QUOTE_ALL)\n",
        "    wr.writerow([\"Id\", \"Prediction1\"])\n",
        "    for l_i, label in enumerate(predictions):\n",
        "        wr.writerow([str(l_i), str(label)])\n"
      ],
      "execution_count": null,
      "outputs": []
    },
    {
      "cell_type": "markdown",
      "metadata": {
        "id": "og2F2MLhs7L6"
      },
      "source": [
        "# Part 2"
      ]
    },
    {
      "cell_type": "code",
      "metadata": {
        "id": "prD0eXGpdoCR"
      },
      "source": [
        "\"\"\"Headers\"\"\"\n",
        "import os\n",
        "import os.path as osp\n",
        "import time\n",
        "\n",
        "%matplotlib inline\n",
        "import matplotlib.pyplot as plt\n",
        "\n",
        "import torch\n",
        "import torch.nn as nn\n",
        "import torchvision.models as models\n",
        "import torch.optim as optim\n",
        "\n",
        "from torchvision import datasets, transforms\n",
        "import numpy as np"
      ],
      "execution_count": null,
      "outputs": []
    },
    {
      "cell_type": "markdown",
      "metadata": {
        "id": "P6CJz7OM0J9Z"
      },
      "source": [
        "# Pre-Trained Model\n",
        "\n",
        "TODO1. Load pretrained resnet model. Experiment with different models. \n",
        "\n",
        "TODO2: Replace last fc layer\n",
        "\n",
        "TODO3. Forward pass"
      ]
    },
    {
      "cell_type": "code",
      "metadata": {
        "id": "HUdo6AkH0maX"
      },
      "source": [
        "class PreTrainedResNet(nn.Module):\n",
        "  def __init__(self, num_classes, feature_extracting):\n",
        "    super(PreTrainedResNet, self).__init__()\n",
        "    \n",
        "    #TODO1: Load pre-trained ResNet Model\n",
        "    self.resnet18 = models.resnet101(pretrained=True)\n",
        "\n",
        "    #Set gradients to false\n",
        "    if feature_extracting:\n",
        "      for param in self.resnet18.parameters():\n",
        "          param.requires_grad = False\n",
        "    \n",
        "    #Replace last fc layer\n",
        "    num_feats = self.resnet18.fc.in_features\n",
        "    \n",
        "    #TODO2: Replace fc layer in resnet to a linear layer of size (num_feats, num_classes)\n",
        "    self.resnet18.fc = nn.Linear(num_feats, num_classes)\n",
        "\n",
        "  def forward(self, x):\n",
        "    #TODO3: Forward pass x through the model\n",
        "    x = self.resnet18(x)\n",
        "    # d = nn.Dropout(p=0.3)\n",
        "    # x = d(x)\n",
        "    return x"
      ],
      "execution_count": null,
      "outputs": []
    },
    {
      "cell_type": "markdown",
      "metadata": {
        "id": "Y_DRbNt8Jask"
      },
      "source": [
        "# Train"
      ]
    },
    {
      "cell_type": "code",
      "metadata": {
        "id": "ujUNEVsEvWwv"
      },
      "source": [
        "def train(model, optimizer, criterion, epoch, num_epochs):\n",
        "  model.train()\n",
        "  epoch_loss = 0.0\n",
        "  epoch_acc = 0.0\n",
        "  \n",
        "  for batch_idx, (images, labels) in enumerate(dataloaders['train']):\n",
        "    #zero the parameter gradients\n",
        "    optimizer.zero_grad()\n",
        "    \n",
        "    #move to GPU\n",
        "    images, labels = images.cuda(), labels.cuda()\n",
        "    \n",
        "    #forward\n",
        "    outputs = model.forward(images)\n",
        "    \n",
        "    loss = criterion(outputs, labels)\n",
        "    \n",
        "    _, preds = torch.max(outputs.data, 1)\n",
        "    \n",
        "    loss.backward()\n",
        "    optimizer.step()\n",
        "    \n",
        "    epoch_loss += loss.item()\n",
        "    epoch_acc += torch.sum(preds == labels).item()\n",
        "    \n",
        "  epoch_loss /= dataset_sizes['train']\n",
        "  epoch_acc /= dataset_sizes['train']\n",
        "  \n",
        "  print('TRAINING Epoch %d/%d Loss %.4f Accuracy %.4f' % (epoch, num_epochs, epoch_loss, epoch_acc))"
      ],
      "execution_count": null,
      "outputs": []
    },
    {
      "cell_type": "markdown",
      "metadata": {
        "id": "mAbNgE4r7vm-"
      },
      "source": [
        "# Main\n",
        "\n",
        "1. Vary hyperparams\n",
        "2. Data augmentation"
      ]
    },
    {
      "cell_type": "code",
      "metadata": {
        "id": "oZkI3scVWjOQ",
        "colab": {
          "base_uri": "https://localhost:8080/"
        },
        "outputId": "65999418-6678-41d5-eb39-d15b71265f56"
      },
      "source": [
        "#TODO: Vary Hyperparams\n",
        "\n",
        "NUM_EPOCHS = 40 #10\n",
        "LEARNING_RATE = 0.001  # try range 0.0001 to 0.01.\n",
        "BATCH_SIZE = 16 #8\n",
        "RESNET_LAST_ONLY = True #Fine tunes only the last layer. Set to False to fine tune entire network\n",
        "\n",
        "root_path = '/data/' #If your data is in a different folder, set the path accodordingly\n",
        "\n",
        "data_transforms = {\n",
        "    'train': transforms.Compose([\n",
        "        transforms.Resize(256),\n",
        "        # transforms.CenterCrop(224),\n",
        "        #TODO: Transforms.RandomResizedCrop() instead of CenterCrop(), RandomRoate() and Horizontal Flip()\n",
        "        # transforms.RandomRoate(45),\n",
        "        transforms.RandomResizedCrop(224), # added\n",
        "        transforms.RandomHorizontalFlip(),\n",
        "        transforms.ToTensor(),\n",
        "        #TODO: Transforms.Normalize()\n",
        "        transforms.Normalize([0.485, 0.456, 0.406], [0.229, 0.224, 0.225]) # added\n",
        "    ]),\n",
        "    'test': transforms.Compose([\n",
        "        transforms.Resize(256),\n",
        "        transforms.CenterCrop(224),\n",
        "        transforms.ToTensor(),\n",
        "        #TODO: Transforms.Normalize()\n",
        "        transforms.Normalize([0.485, 0.456, 0.406], [0.229, 0.224, 0.225]) # added\n",
        "    ]),\n",
        "}\n",
        "\n",
        "# loading datasets with PyTorch ImageFolder\n",
        "image_datasets = {x: datasets.ImageFolder(os.path.join(root_path, x),\n",
        "                                          data_transforms[x])\n",
        "                  for x in ['train', 'test']}\n",
        "\n",
        "# defining data loaders to load data using image_datasets and transforms, here we also specify batch size for the mini batch\n",
        "dataloaders = {x: torch.utils.data.DataLoader(image_datasets[x], batch_size=BATCH_SIZE,\n",
        "                                             shuffle=True, num_workers=4)\n",
        "              for x in ['train', 'test']}\n",
        "\n",
        "dataset_sizes = {x: len(image_datasets[x]) for x in ['train', 'test']}\n",
        "class_names = image_datasets['train'].classes\n",
        "\n",
        "#Initialize the model\n",
        "model = PreTrainedResNet(len(class_names), RESNET_LAST_ONLY)\n",
        "model = model.cuda()\n",
        "\n",
        "#Setting the optimizer and loss criterion\n",
        "optimizer = optim.SGD(model.parameters(), lr=LEARNING_RATE, momentum=0.9)\n",
        "criterion = nn.CrossEntropyLoss()\n",
        "\n",
        "#Begin Train\n",
        "for epoch in range(NUM_EPOCHS):\n",
        "  train(model, optimizer, criterion, epoch+1, NUM_EPOCHS)\n",
        "  \n",
        "print(\"Finished Training\")\n",
        "print(\"-\"*10)"
      ],
      "execution_count": null,
      "outputs": [
        {
          "output_type": "stream",
          "name": "stdout",
          "text": [
            "TRAINING Epoch 1/40 Loss 0.3299 Accuracy 0.0160\n",
            "TRAINING Epoch 2/40 Loss 0.3061 Accuracy 0.0667\n",
            "TRAINING Epoch 3/40 Loss 0.2840 Accuracy 0.1607\n",
            "TRAINING Epoch 4/40 Loss 0.2650 Accuracy 0.2377\n",
            "TRAINING Epoch 5/40 Loss 0.2494 Accuracy 0.3007\n",
            "TRAINING Epoch 6/40 Loss 0.2341 Accuracy 0.3667\n",
            "TRAINING Epoch 7/40 Loss 0.2204 Accuracy 0.4113\n",
            "TRAINING Epoch 8/40 Loss 0.2101 Accuracy 0.4340\n",
            "TRAINING Epoch 9/40 Loss 0.1973 Accuracy 0.4803\n",
            "TRAINING Epoch 10/40 Loss 0.1886 Accuracy 0.5130\n",
            "TRAINING Epoch 11/40 Loss 0.1807 Accuracy 0.5337\n",
            "TRAINING Epoch 12/40 Loss 0.1732 Accuracy 0.5497\n",
            "TRAINING Epoch 13/40 Loss 0.1642 Accuracy 0.5923\n",
            "TRAINING Epoch 14/40 Loss 0.1589 Accuracy 0.5860\n",
            "TRAINING Epoch 15/40 Loss 0.1538 Accuracy 0.6027\n",
            "TRAINING Epoch 16/40 Loss 0.1466 Accuracy 0.6127\n",
            "TRAINING Epoch 17/40 Loss 0.1435 Accuracy 0.6147\n",
            "TRAINING Epoch 18/40 Loss 0.1365 Accuracy 0.6490\n",
            "TRAINING Epoch 19/40 Loss 0.1321 Accuracy 0.6597\n",
            "TRAINING Epoch 20/40 Loss 0.1308 Accuracy 0.6543\n",
            "TRAINING Epoch 21/40 Loss 0.1271 Accuracy 0.6567\n",
            "TRAINING Epoch 22/40 Loss 0.1262 Accuracy 0.6530\n",
            "TRAINING Epoch 23/40 Loss 0.1210 Accuracy 0.6617\n",
            "TRAINING Epoch 24/40 Loss 0.1177 Accuracy 0.6703\n",
            "TRAINING Epoch 25/40 Loss 0.1145 Accuracy 0.6870\n",
            "TRAINING Epoch 26/40 Loss 0.1106 Accuracy 0.7093\n",
            "TRAINING Epoch 27/40 Loss 0.1105 Accuracy 0.6937\n",
            "TRAINING Epoch 28/40 Loss 0.1065 Accuracy 0.7063\n",
            "TRAINING Epoch 29/40 Loss 0.1055 Accuracy 0.7067\n",
            "TRAINING Epoch 30/40 Loss 0.1058 Accuracy 0.7017\n",
            "TRAINING Epoch 31/40 Loss 0.1039 Accuracy 0.7097\n",
            "TRAINING Epoch 32/40 Loss 0.1009 Accuracy 0.7223\n",
            "TRAINING Epoch 33/40 Loss 0.1001 Accuracy 0.7117\n",
            "TRAINING Epoch 34/40 Loss 0.0986 Accuracy 0.7220\n",
            "TRAINING Epoch 35/40 Loss 0.0956 Accuracy 0.7197\n",
            "TRAINING Epoch 36/40 Loss 0.0943 Accuracy 0.7237\n",
            "TRAINING Epoch 37/40 Loss 0.0922 Accuracy 0.7333\n",
            "TRAINING Epoch 38/40 Loss 0.0900 Accuracy 0.7510\n",
            "TRAINING Epoch 39/40 Loss 0.0887 Accuracy 0.7463\n",
            "TRAINING Epoch 40/40 Loss 0.0897 Accuracy 0.7483\n",
            "Finished Training\n",
            "----------\n"
          ]
        }
      ]
    },
    {
      "cell_type": "markdown",
      "metadata": {
        "id": "DEbsnh3a7ljw"
      },
      "source": [
        "# Test"
      ]
    },
    {
      "cell_type": "code",
      "metadata": {
        "id": "4wyYKmQ91woU"
      },
      "source": [
        "def test(model, criterion, repeats=2):\n",
        "  model.eval()\n",
        "  \n",
        "  test_loss = 0.0\n",
        "  test_acc = 0.0\n",
        "  \n",
        "  with torch.no_grad():\n",
        "    for itr in range(repeats):\n",
        "      for batch_idx, (images, labels) in enumerate(dataloaders['test']):\n",
        "        #move to GPU\n",
        "        images, labels = images.cuda(), labels.cuda()\n",
        "\n",
        "        #forward\n",
        "        outputs = model.forward(images)\n",
        "\n",
        "        loss = criterion(outputs, labels)\n",
        "\n",
        "        _, preds = torch.max(outputs.data, 1)\n",
        "\n",
        "        test_loss += loss.item()\n",
        "        test_acc += torch.sum(preds == labels).item()\n",
        "\n",
        "    test_loss /= (dataset_sizes['test']*repeats)\n",
        "    test_acc /= (dataset_sizes['test']*repeats)\n",
        "\n",
        "    print('Test Loss: %.4f Test Accuracy %.4f' % (test_loss, test_acc))\n"
      ],
      "execution_count": null,
      "outputs": []
    },
    {
      "cell_type": "code",
      "metadata": {
        "id": "znXWR6oWyl-B",
        "colab": {
          "base_uri": "https://localhost:8080/"
        },
        "outputId": "ee4e43d4-f475-4ef3-b02d-e6ca1d5eb430"
      },
      "source": [
        "test(model, criterion)"
      ],
      "execution_count": null,
      "outputs": [
        {
          "output_type": "stream",
          "name": "stdout",
          "text": [
            "Test Loss: 0.1240 Test Accuracy 0.5140\n"
          ]
        }
      ]
    },
    {
      "cell_type": "markdown",
      "metadata": {
        "id": "kNX2g3AYUbM2"
      },
      "source": [
        "# Visualizing the model predictions\n",
        "\n",
        "Only for viusalizing. Nothing to be done here. "
      ]
    },
    {
      "cell_type": "code",
      "metadata": {
        "id": "Zd_lkTdoUaOX"
      },
      "source": [
        "def imshow(inp, title=None):\n",
        "    \"\"\"Imshow for Tensor.\"\"\"\n",
        "    inp = inp.numpy().transpose((1, 2, 0))\n",
        "    inp = np.clip(inp, 0, 1)\n",
        "    plt.imshow(inp)\n",
        "    if title is not None:\n",
        "        plt.title(title)\n",
        "    plt.pause(1)  # pause a bit so that plots are updated\n",
        "    \n",
        "def visualize_model(model, num_images=8):\n",
        "    images_so_far = 0\n",
        "    fig = plt.figure()\n",
        "\n",
        "    for batch_idx, (images, labels) in enumerate(dataloaders['test']):\n",
        "        #move to GPU\n",
        "        images, labels = images.cuda(), labels.cuda()\n",
        "        \n",
        "        outputs = model(images)\n",
        "        \n",
        "        _, preds = torch.max(outputs.data, 1)\n",
        "       \n",
        "\n",
        "        for j in range(images.size()[0]):\n",
        "            images_so_far += 1\n",
        "            ax = plt.subplot(num_images//2, 2, images_so_far)\n",
        "            ax.axis('off')\n",
        "            ax.set_title('class: {} predicted: {}'.format(class_names[labels.data[j]], class_names[preds[j]]))\n",
        "\n",
        "            imshow(images.cpu().data[j])\n",
        "\n",
        "            if images_so_far == num_images:\n",
        "                return"
      ],
      "execution_count": null,
      "outputs": []
    },
    {
      "cell_type": "code",
      "metadata": {
        "id": "sxjSnLKOJsTW",
        "colab": {
          "base_uri": "https://localhost:8080/",
          "height": 633
        },
        "outputId": "b0c3bcc3-f1dd-4c60-dd26-eb5140041ef5"
      },
      "source": [
        "visualize_model(model)"
      ],
      "execution_count": null,
      "outputs": [
        {
          "output_type": "display_data",
          "data": {
            "text/plain": [
              "<Figure size 432x288 with 1 Axes>"
            ],
            "image/png": "[encoded data removed]"
          },
          "metadata": {
            "needs_background": "light"
          }
        },
        {
          "output_type": "display_data",
          "data": {
            "text/plain": [
              "<Figure size 432x288 with 1 Axes>"
            ],
            "image/png": "[encoded data removed]"
          },
          "metadata": {
            "needs_background": "light"
          }
        },
        {
          "output_type": "display_data",
          "data": {
            "text/plain": [
              "<Figure size 432x288 with 1 Axes>"
            ],
            "image/png": "[encoded data removed]"
          },
          "metadata": {
            "needs_background": "light"
          }
        },
        {
          "output_type": "display_data",
          "data": {
            "text/plain": [
              "<Figure size 432x288 with 1 Axes>"
            ],
            "image/png": "[encoded data removed]"
          },
          "metadata": {
            "needs_background": "light"
          }
        },
        {
          "output_type": "display_data",
          "data": {
            "text/plain": [
              "<Figure size 432x288 with 1 Axes>"
            ],
            "image/png": "[encoded data removed]"
          },
          "metadata": {
            "needs_background": "light"
          }
        },
        {
          "output_type": "display_data",
          "data": {
            "text/plain": [
              "<Figure size 432x288 with 1 Axes>"
            ],
            "image/png": "[encoded data removed]"
          },
          "metadata": {
            "needs_background": "light"
          }
        },
        {
          "output_type": "display_data",
          "data": {
            "text/plain": [
              "<Figure size 432x288 with 1 Axes>"
            ],
            "image/png": "[encoded data removed]"
          },
          "metadata": {
            "needs_background": "light"
          }
        },
        {
          "output_type": "display_data",
          "data": {
            "text/plain": [
              "<Figure size 432x288 with 1 Axes>"
            ],
            "image/png": "[encoded data removed]"
          },
          "metadata": {
            "needs_background": "light"
          }
        }
      ]
    }
  ]
}